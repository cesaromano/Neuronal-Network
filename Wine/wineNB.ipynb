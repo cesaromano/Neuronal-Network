{
 "cells": [
  {
   "cell_type": "code",
   "execution_count": 66,
   "metadata": {},
   "outputs": [],
   "source": [
    "import numpy as np\n",
    "import pandas as pd\n",
    "import tensorflow as tf\n",
    "import keras\n",
    "from sklearn.preprocessing import LabelEncoder\n",
    "from keras.models import Sequential\n",
    "from keras.layers import Dense\n",
    "from tensorflow.keras.optimizers import Adam\n",
    "from sklearn.metrics import classification_report, confusion_matrix\n",
    "import matplotlib.pyplot as plt\n",
    "from scipy.stats import zscore\n",
    "from sklearn.utils import shuffle"
   ]
  },
  {
   "cell_type": "code",
   "execution_count": 67,
   "metadata": {},
   "outputs": [
    {
     "name": "stdout",
     "output_type": "stream",
     "text": [
      "   label  Alcohol  Malic acid   Ash  Alcalinity of ash  Magnesium  \\\n",
      "0      1    14.23        1.71  2.43               15.6        127   \n",
      "1      1    13.20        1.78  2.14               11.2        100   \n",
      "2      1    13.16        2.36  2.67               18.6        101   \n",
      "3      1    14.37        1.95  2.50               16.8        113   \n",
      "4      1    13.24        2.59  2.87               21.0        118   \n",
      "\n",
      "   Total phenols  Flavanoids  Nonflavanoid phenols  Proanthocyanins  \\\n",
      "0           2.80        3.06                  0.28             2.29   \n",
      "1           2.65        2.76                  0.26             1.28   \n",
      "2           2.80        3.24                  0.30             2.81   \n",
      "3           3.85        3.49                  0.24             2.18   \n",
      "4           2.80        2.69                  0.39             1.82   \n",
      "\n",
      "   Color intensity   Hue  OD280/OD315 of diluted wines  Proline  \n",
      "0             5.64  1.04                          3.92     1065  \n",
      "1             4.38  1.05                          3.40     1050  \n",
      "2             5.68  1.03                          3.17     1185  \n",
      "3             7.80  0.86                          3.45     1480  \n",
      "4             4.32  1.04                          2.93      735   (178, 14)\n"
     ]
    }
   ],
   "source": [
    "filePath = 'wine.data' #getting data path\n",
    "\n",
    "data = pd.read_csv(filePath, names=[\"label\", \n",
    "        \"Alcohol\", \"Malic acid\", \"Ash\", \n",
    "\t    \"Alcalinity of ash\", \"Magnesium\",\n",
    "\t    \"Total phenols\", \"Flavanoids\",\n",
    " \t    \"Nonflavanoid phenols\", \"Proanthocyanins\",\n",
    "\t    \"Color intensity\", \"Hue\", \"OD280/OD315 of diluted wines\",\n",
    " \t    \"Proline\"]) #read data from pandas\n",
    "print(data.head(), data.shape)"
   ]
  },
  {
   "cell_type": "code",
   "execution_count": 68,
   "metadata": {},
   "outputs": [
    {
     "name": "stdout",
     "output_type": "stream",
     "text": [
      "     label  Alcohol  Malic acid   Ash  Alcalinity of ash  Magnesium  \\\n",
      "59       2    12.37        0.94  1.36               10.6         88   \n",
      "128      2    12.37        1.63  2.30               24.5         88   \n",
      "84       2    11.84        0.89  2.58               18.0         94   \n",
      "86       2    12.16        1.61  2.31               22.8         90   \n",
      "129      2    12.04        4.30  2.38               22.0         80   \n",
      "\n",
      "     Total phenols  Flavanoids  Nonflavanoid phenols  Proanthocyanins  \\\n",
      "59            1.98        0.57                  0.28             0.42   \n",
      "128           2.22        2.45                  0.40             1.90   \n",
      "84            2.20        2.21                  0.22             2.35   \n",
      "86            1.78        1.69                  0.43             1.56   \n",
      "129           2.10        1.75                  0.42             1.35   \n",
      "\n",
      "     Color intensity   Hue  OD280/OD315 of diluted wines  Proline  \n",
      "59              1.95  1.05                          1.82      520  \n",
      "128             2.12  0.89                          2.78      342  \n",
      "84              3.05  0.79                          3.08      520  \n",
      "86              2.45  1.33                          2.26      495  \n",
      "129             2.60  0.79                          2.57      580   (178, 14)\n"
     ]
    }
   ],
   "source": [
    "data = shuffle(data) #shuffling data\n",
    "print(data.head(), data.shape)"
   ]
  },
  {
   "cell_type": "code",
   "execution_count": 69,
   "metadata": {},
   "outputs": [
    {
     "name": "stdout",
     "output_type": "stream",
     "text": [
      "59     2\n",
      "128    2\n",
      "84     2\n",
      "86     2\n",
      "129    2\n",
      "Name: label, dtype: int64      Alcohol  Malic acid   Ash  Alcalinity of ash  Magnesium  Total phenols  \\\n",
      "59     12.37        0.94  1.36               10.6         88           1.98   \n",
      "128    12.37        1.63  2.30               24.5         88           2.22   \n",
      "84     11.84        0.89  2.58               18.0         94           2.20   \n",
      "86     12.16        1.61  2.31               22.8         90           1.78   \n",
      "129    12.04        4.30  2.38               22.0         80           2.10   \n",
      "\n",
      "     Flavanoids  Nonflavanoid phenols  Proanthocyanins  Color intensity   Hue  \\\n",
      "59         0.57                  0.28             0.42             1.95  1.05   \n",
      "128        2.45                  0.40             1.90             2.12  0.89   \n",
      "84         2.21                  0.22             2.35             3.05  0.79   \n",
      "86         1.69                  0.43             1.56             2.45  1.33   \n",
      "129        1.75                  0.42             1.35             2.60  0.79   \n",
      "\n",
      "     OD280/OD315 of diluted wines  Proline  \n",
      "59                           1.82      520  \n",
      "128                          2.78      342  \n",
      "84                           3.08      520  \n",
      "86                           2.26      495  \n",
      "129                          2.57      580  \n"
     ]
    }
   ],
   "source": [
    "features = data.drop(['label'], axis=1) #getting the training features\n",
    "labels = data['label'] #getting the training labels\n",
    "print(labels.head(), features.head())"
   ]
  },
  {
   "cell_type": "code",
   "execution_count": 70,
   "metadata": {},
   "outputs": [
    {
     "name": "stdout",
     "output_type": "stream",
     "text": [
      "[[0 1 0]\n",
      " [0 1 0]\n",
      " [0 1 0]\n",
      " [0 1 0]\n",
      " [0 1 0]]      Alcohol  Malic acid   Ash  Alcalinity of ash  Magnesium  Total phenols  \\\n",
      "59     12.37        0.94  1.36               10.6         88           1.98   \n",
      "128    12.37        1.63  2.30               24.5         88           2.22   \n",
      "84     11.84        0.89  2.58               18.0         94           2.20   \n",
      "86     12.16        1.61  2.31               22.8         90           1.78   \n",
      "129    12.04        4.30  2.38               22.0         80           2.10   \n",
      "\n",
      "     Flavanoids  Nonflavanoid phenols  Proanthocyanins  Color intensity   Hue  \\\n",
      "59         0.57                  0.28             0.42             1.95  1.05   \n",
      "128        2.45                  0.40             1.90             2.12  0.89   \n",
      "84         2.21                  0.22             2.35             3.05  0.79   \n",
      "86         1.69                  0.43             1.56             2.45  1.33   \n",
      "129        1.75                  0.42             1.35             2.60  0.79   \n",
      "\n",
      "     OD280/OD315 of diluted wines  Proline  \n",
      "59                           1.82      520  \n",
      "128                          2.78      342  \n",
      "84                           3.08      520  \n",
      "86                           2.26      495  \n",
      "129                          2.57      580  \n"
     ]
    }
   ],
   "source": [
    "encoder = LabelEncoder() #instantiate encoder class to encode labels\n",
    "lEncoded = encoder.fit_transform(labels) #fitting and transforming data\n",
    "labelsE = pd.get_dummies(lEncoded).values #encoding labels\n",
    "print(labelsE[:5], features.head())"
   ]
  },
  {
   "cell_type": "code",
   "execution_count": 71,
   "metadata": {},
   "outputs": [
    {
     "name": "stdout",
     "output_type": "stream",
     "text": [
      "59     2\n",
      "128    2\n",
      "84     2\n",
      "86     2\n",
      "129    2\n",
      "Name: label, dtype: int64      Alcohol  Malic acid   Ash  Alcalinity of ash  Magnesium  Total phenols  \\\n",
      "59     12.37        0.94  1.36               10.6         88           1.98   \n",
      "128    12.37        1.63  2.30               24.5         88           2.22   \n",
      "84     11.84        0.89  2.58               18.0         94           2.20   \n",
      "86     12.16        1.61  2.31               22.8         90           1.78   \n",
      "129    12.04        4.30  2.38               22.0         80           2.10   \n",
      "\n",
      "     Flavanoids  Nonflavanoid phenols  Proanthocyanins  Color intensity   Hue  \\\n",
      "59         0.57                  0.28             0.42             1.95  1.05   \n",
      "128        2.45                  0.40             1.90             2.12  0.89   \n",
      "84         2.21                  0.22             2.35             3.05  0.79   \n",
      "86         1.69                  0.43             1.56             2.45  1.33   \n",
      "129        1.75                  0.42             1.35             2.60  0.79   \n",
      "\n",
      "     OD280/OD315 of diluted wines  Proline  \n",
      "59                           1.82      520  \n",
      "128                          2.78      342  \n",
      "84                           3.08      520  \n",
      "86                           2.26      495  \n",
      "129                          2.57      580  \n"
     ]
    }
   ],
   "source": [
    "features = data.drop(['label'], axis=1) #getting the training features\n",
    "labels = data['label'] #getting the training labels\n",
    "print(labels.head(), features.head())"
   ]
  },
  {
   "cell_type": "code",
   "execution_count": 72,
   "metadata": {},
   "outputs": [
    {
     "name": "stdout",
     "output_type": "stream",
     "text": [
      "      Alcohol  Malic acid       Ash  Alcalinity of ash  Magnesium  \\\n",
      "59  -0.778980   -1.253450 -3.679162          -2.671018  -0.824415   \n",
      "128 -0.778980   -0.634063 -0.243142           1.502943  -0.824415   \n",
      "84  -1.433671   -1.298334  0.780354          -0.448909  -0.403135   \n",
      "86  -1.038386   -0.652016 -0.206588           0.992459  -0.683988   \n",
      "129 -1.186618    1.762698  0.049285           0.752231  -1.386122   \n",
      "\n",
      "     Total phenols  Flavanoids  Nonflavanoid phenols  Proanthocyanins  \\\n",
      "59       -0.504914   -1.465058             -0.659563        -2.051513   \n",
      "128      -0.120355    0.422399              0.307374         0.541571   \n",
      "84       -0.152402    0.181447             -1.143031         1.330009   \n",
      "86       -0.825381   -0.340615              0.549108        -0.054137   \n",
      "129      -0.312635   -0.280377              0.468530        -0.422075   \n",
      "\n",
      "     Color intensity       Hue  OD280/OD315 of diluted wines   Proline  \n",
      "59         -1.344466  0.406051                     -1.118210 -0.722540  \n",
      "128        -1.270929 -0.295924                      0.237735 -1.289380  \n",
      "84         -0.868639 -0.734657                      0.661468 -0.722540  \n",
      "86         -1.128181  1.634506                     -0.496736 -0.802153  \n",
      "129        -1.063296 -0.734657                     -0.058878 -0.531471  \n"
     ]
    }
   ],
   "source": [
    "#zscore\n",
    "features = features.select_dtypes(include='number').apply(zscore)\n",
    "print(features.head())"
   ]
  },
  {
   "cell_type": "code",
   "execution_count": 73,
   "metadata": {},
   "outputs": [
    {
     "name": "stdout",
     "output_type": "stream",
     "text": [
      "(124, 13) (26, 13) (28, 13)\n",
      "(124, 3) (26, 3) (28, 3)\n"
     ]
    }
   ],
   "source": [
    "fd = int(.7*len(data)) #Getting first split index point of division \n",
    "sd = fd+int(.15*len(data)) #Getting second split index point of division\n",
    "\n",
    "trainF, validationF, testF = np.split(features, [fd, sd]) #split data in train, test and validation sets\n",
    "trainLE, validationLE, testLE = np.split(labelsE, [fd, sd]) #split data in train, test and validation sets\n",
    "print(trainF.shape, validationF.shape, testF.shape)\n",
    "print(trainLE.shape, validationLE.shape, testLE.shape)\n",
    "#print(validationLE[:5])"
   ]
  },
  {
   "cell_type": "code",
   "execution_count": 74,
   "metadata": {},
   "outputs": [
    {
     "name": "stdout",
     "output_type": "stream",
     "text": [
      "Model: \"sequential_6\"\n",
      "_________________________________________________________________\n",
      " Layer (type)                Output Shape              Param #   \n",
      "=================================================================\n",
      " dense_12 (Dense)            (None, 13)                182       \n",
      "                                                                 \n",
      " dense_13 (Dense)            (None, 3)                 42        \n",
      "                                                                 \n",
      "=================================================================\n",
      "Total params: 224\n",
      "Trainable params: 224\n",
      "Non-trainable params: 0\n",
      "_________________________________________________________________\n",
      "None\n"
     ]
    },
    {
     "name": "stderr",
     "output_type": "stream",
     "text": [
      "c:\\Users\\guazo\\AppData\\Local\\Programs\\Python\\Python310\\lib\\site-packages\\keras\\optimizer_v2\\adam.py:105: UserWarning: The `lr` argument is deprecated, use `learning_rate` instead.\n",
      "  super(Adam, self).__init__(name, **kwargs)\n"
     ]
    }
   ],
   "source": [
    "model = Sequential() #instantiate the Sequential module to create the model\n",
    "#model.add(Dense(13, input_shape=(13,), activation='relu')) #adding an input layer of 4 perceptrons and as a activation function relu\n",
    "#model.add(Dense(13, kernel_initializer='zeros', input_shape=(13,), activation='relu')) #adding an input layer of 4 perceptrons and as a activation function relu\n",
    "model.add(Dense(13, kernel_initializer='ones', input_shape=(13,), activation='relu')) #adding an input layer of 4 perceptrons and as a activation function relu\n",
    "model.add(Dense(3, activation='softmax')) #adding the output layer\n",
    "model.compile(Adam(lr=0.2), 'categorical_crossentropy', metrics=['accuracy']) #definning the learning rate\n",
    "print(model.summary())"
   ]
  },
  {
   "cell_type": "code",
   "execution_count": 75,
   "metadata": {},
   "outputs": [
    {
     "name": "stdout",
     "output_type": "stream",
     "text": [
      "Epoch 1/100\n",
      "4/4 [==============================] - 2s 160ms/step - loss: 2.1445 - accuracy: 0.3871 - val_loss: 2.4352 - val_accuracy: 0.7692\n",
      "Epoch 2/100\n",
      "4/4 [==============================] - 0s 88ms/step - loss: 1.7659 - accuracy: 0.8548 - val_loss: 1.0138 - val_accuracy: 0.8846\n",
      "Epoch 3/100\n",
      "4/4 [==============================] - 0s 48ms/step - loss: 0.7339 - accuracy: 0.9355 - val_loss: 0.3256 - val_accuracy: 0.9615\n",
      "Epoch 4/100\n",
      "4/4 [==============================] - 0s 32ms/step - loss: 0.3542 - accuracy: 0.9597 - val_loss: 0.0339 - val_accuracy: 1.0000\n",
      "Epoch 5/100\n",
      "4/4 [==============================] - 0s 40ms/step - loss: 0.1230 - accuracy: 0.9839 - val_loss: 0.0188 - val_accuracy: 1.0000\n",
      "Epoch 6/100\n",
      "4/4 [==============================] - 0s 85ms/step - loss: 0.0452 - accuracy: 0.9758 - val_loss: 0.0292 - val_accuracy: 1.0000\n",
      "Epoch 7/100\n",
      "4/4 [==============================] - 0s 37ms/step - loss: 0.0511 - accuracy: 0.9758 - val_loss: 0.0153 - val_accuracy: 1.0000\n",
      "Epoch 8/100\n",
      "4/4 [==============================] - 0s 35ms/step - loss: 0.0161 - accuracy: 1.0000 - val_loss: 0.0062 - val_accuracy: 1.0000\n",
      "Epoch 9/100\n",
      "4/4 [==============================] - 0s 32ms/step - loss: 0.0052 - accuracy: 1.0000 - val_loss: 0.0039 - val_accuracy: 1.0000\n",
      "Epoch 10/100\n",
      "4/4 [==============================] - 0s 35ms/step - loss: 0.0030 - accuracy: 1.0000 - val_loss: 0.0031 - val_accuracy: 1.0000\n",
      "Epoch 11/100\n",
      "4/4 [==============================] - 0s 27ms/step - loss: 0.0026 - accuracy: 1.0000 - val_loss: 0.0026 - val_accuracy: 1.0000\n",
      "Epoch 12/100\n",
      "4/4 [==============================] - 0s 35ms/step - loss: 0.0022 - accuracy: 1.0000 - val_loss: 0.0023 - val_accuracy: 1.0000\n",
      "Epoch 13/100\n",
      "4/4 [==============================] - 0s 40ms/step - loss: 0.0017 - accuracy: 1.0000 - val_loss: 0.0022 - val_accuracy: 1.0000\n",
      "Epoch 14/100\n",
      "4/4 [==============================] - 0s 50ms/step - loss: 0.0016 - accuracy: 1.0000 - val_loss: 0.0022 - val_accuracy: 1.0000\n",
      "Epoch 15/100\n",
      "4/4 [==============================] - 0s 40ms/step - loss: 0.0014 - accuracy: 1.0000 - val_loss: 0.0021 - val_accuracy: 1.0000\n",
      "Epoch 16/100\n",
      "4/4 [==============================] - 0s 40ms/step - loss: 0.0013 - accuracy: 1.0000 - val_loss: 0.0020 - val_accuracy: 1.0000\n",
      "Epoch 17/100\n",
      "4/4 [==============================] - 0s 51ms/step - loss: 0.0012 - accuracy: 1.0000 - val_loss: 0.0020 - val_accuracy: 1.0000\n",
      "Epoch 18/100\n",
      "4/4 [==============================] - 0s 48ms/step - loss: 0.0011 - accuracy: 1.0000 - val_loss: 0.0019 - val_accuracy: 1.0000\n",
      "Epoch 19/100\n",
      "4/4 [==============================] - 0s 37ms/step - loss: 0.0010 - accuracy: 1.0000 - val_loss: 0.0019 - val_accuracy: 1.0000\n",
      "Epoch 20/100\n",
      "4/4 [==============================] - 0s 51ms/step - loss: 9.9217e-04 - accuracy: 1.0000 - val_loss: 0.0018 - val_accuracy: 1.0000\n",
      "Epoch 21/100\n",
      "4/4 [==============================] - 0s 53ms/step - loss: 9.4891e-04 - accuracy: 1.0000 - val_loss: 0.0017 - val_accuracy: 1.0000\n",
      "Epoch 22/100\n",
      "4/4 [==============================] - 0s 40ms/step - loss: 9.1010e-04 - accuracy: 1.0000 - val_loss: 0.0017 - val_accuracy: 1.0000\n",
      "Epoch 23/100\n",
      "4/4 [==============================] - 0s 43ms/step - loss: 8.7533e-04 - accuracy: 1.0000 - val_loss: 0.0016 - val_accuracy: 1.0000\n",
      "Epoch 24/100\n",
      "4/4 [==============================] - 0s 56ms/step - loss: 8.4741e-04 - accuracy: 1.0000 - val_loss: 0.0016 - val_accuracy: 1.0000\n",
      "Epoch 25/100\n",
      "4/4 [==============================] - 0s 59ms/step - loss: 8.1904e-04 - accuracy: 1.0000 - val_loss: 0.0015 - val_accuracy: 1.0000\n",
      "Epoch 26/100\n",
      "4/4 [==============================] - 0s 54ms/step - loss: 7.9367e-04 - accuracy: 1.0000 - val_loss: 0.0015 - val_accuracy: 1.0000\n",
      "Epoch 27/100\n",
      "4/4 [==============================] - 0s 37ms/step - loss: 7.7125e-04 - accuracy: 1.0000 - val_loss: 0.0014 - val_accuracy: 1.0000\n",
      "Epoch 28/100\n",
      "4/4 [==============================] - 0s 32ms/step - loss: 7.4913e-04 - accuracy: 1.0000 - val_loss: 0.0014 - val_accuracy: 1.0000\n",
      "Epoch 29/100\n",
      "4/4 [==============================] - 0s 53ms/step - loss: 7.2849e-04 - accuracy: 1.0000 - val_loss: 0.0014 - val_accuracy: 1.0000\n",
      "Epoch 30/100\n",
      "4/4 [==============================] - 0s 43ms/step - loss: 7.0960e-04 - accuracy: 1.0000 - val_loss: 0.0013 - val_accuracy: 1.0000\n",
      "Epoch 31/100\n",
      "4/4 [==============================] - 0s 40ms/step - loss: 6.8904e-04 - accuracy: 1.0000 - val_loss: 0.0013 - val_accuracy: 1.0000\n",
      "Epoch 32/100\n",
      "4/4 [==============================] - 0s 45ms/step - loss: 6.7180e-04 - accuracy: 1.0000 - val_loss: 0.0013 - val_accuracy: 1.0000\n",
      "Epoch 33/100\n",
      "4/4 [==============================] - 0s 56ms/step - loss: 6.5513e-04 - accuracy: 1.0000 - val_loss: 0.0012 - val_accuracy: 1.0000\n",
      "Epoch 34/100\n",
      "4/4 [==============================] - 0s 53ms/step - loss: 6.3779e-04 - accuracy: 1.0000 - val_loss: 0.0012 - val_accuracy: 1.0000\n",
      "Epoch 35/100\n",
      "4/4 [==============================] - 0s 40ms/step - loss: 6.2159e-04 - accuracy: 1.0000 - val_loss: 0.0012 - val_accuracy: 1.0000\n",
      "Epoch 36/100\n",
      "4/4 [==============================] - 0s 40ms/step - loss: 6.0635e-04 - accuracy: 1.0000 - val_loss: 0.0012 - val_accuracy: 1.0000\n",
      "Epoch 37/100\n",
      "4/4 [==============================] - 0s 59ms/step - loss: 5.9251e-04 - accuracy: 1.0000 - val_loss: 0.0011 - val_accuracy: 1.0000\n",
      "Epoch 38/100\n",
      "4/4 [==============================] - 0s 61ms/step - loss: 5.7758e-04 - accuracy: 1.0000 - val_loss: 0.0011 - val_accuracy: 1.0000\n",
      "Epoch 39/100\n",
      "4/4 [==============================] - 0s 45ms/step - loss: 5.6424e-04 - accuracy: 1.0000 - val_loss: 0.0011 - val_accuracy: 1.0000\n",
      "Epoch 40/100\n",
      "4/4 [==============================] - 0s 35ms/step - loss: 5.5119e-04 - accuracy: 1.0000 - val_loss: 0.0011 - val_accuracy: 1.0000\n",
      "Epoch 41/100\n",
      "4/4 [==============================] - 0s 53ms/step - loss: 5.3785e-04 - accuracy: 1.0000 - val_loss: 0.0010 - val_accuracy: 1.0000\n",
      "Epoch 42/100\n",
      "4/4 [==============================] - 0s 32ms/step - loss: 5.2651e-04 - accuracy: 1.0000 - val_loss: 0.0010 - val_accuracy: 1.0000\n",
      "Epoch 43/100\n",
      "4/4 [==============================] - 0s 43ms/step - loss: 5.1347e-04 - accuracy: 1.0000 - val_loss: 9.9509e-04 - val_accuracy: 1.0000\n",
      "Epoch 44/100\n",
      "4/4 [==============================] - 0s 48ms/step - loss: 5.0069e-04 - accuracy: 1.0000 - val_loss: 9.7644e-04 - val_accuracy: 1.0000\n",
      "Epoch 45/100\n",
      "4/4 [==============================] - 0s 45ms/step - loss: 4.9056e-04 - accuracy: 1.0000 - val_loss: 9.5785e-04 - val_accuracy: 1.0000\n",
      "Epoch 46/100\n",
      "4/4 [==============================] - 0s 38ms/step - loss: 4.8018e-04 - accuracy: 1.0000 - val_loss: 9.4065e-04 - val_accuracy: 1.0000\n",
      "Epoch 47/100\n",
      "4/4 [==============================] - 0s 32ms/step - loss: 4.6964e-04 - accuracy: 1.0000 - val_loss: 9.2440e-04 - val_accuracy: 1.0000\n",
      "Epoch 48/100\n",
      "4/4 [==============================] - 0s 43ms/step - loss: 4.5944e-04 - accuracy: 1.0000 - val_loss: 9.0907e-04 - val_accuracy: 1.0000\n",
      "Epoch 49/100\n",
      "4/4 [==============================] - 0s 56ms/step - loss: 4.5044e-04 - accuracy: 1.0000 - val_loss: 8.9455e-04 - val_accuracy: 1.0000\n",
      "Epoch 50/100\n",
      "4/4 [==============================] - 0s 40ms/step - loss: 4.4086e-04 - accuracy: 1.0000 - val_loss: 8.8120e-04 - val_accuracy: 1.0000\n",
      "Epoch 51/100\n",
      "4/4 [==============================] - 0s 32ms/step - loss: 4.3359e-04 - accuracy: 1.0000 - val_loss: 8.6828e-04 - val_accuracy: 1.0000\n",
      "Epoch 52/100\n",
      "4/4 [==============================] - 0s 37ms/step - loss: 4.2425e-04 - accuracy: 1.0000 - val_loss: 8.5598e-04 - val_accuracy: 1.0000\n",
      "Epoch 53/100\n",
      "4/4 [==============================] - 0s 56ms/step - loss: 4.1529e-04 - accuracy: 1.0000 - val_loss: 8.4392e-04 - val_accuracy: 1.0000\n",
      "Epoch 54/100\n",
      "4/4 [==============================] - 0s 53ms/step - loss: 4.0741e-04 - accuracy: 1.0000 - val_loss: 8.3166e-04 - val_accuracy: 1.0000\n",
      "Epoch 55/100\n",
      "4/4 [==============================] - 0s 40ms/step - loss: 3.9828e-04 - accuracy: 1.0000 - val_loss: 8.1985e-04 - val_accuracy: 1.0000\n",
      "Epoch 56/100\n",
      "4/4 [==============================] - 0s 48ms/step - loss: 3.9043e-04 - accuracy: 1.0000 - val_loss: 8.0867e-04 - val_accuracy: 1.0000\n",
      "Epoch 57/100\n",
      "4/4 [==============================] - 0s 59ms/step - loss: 3.8261e-04 - accuracy: 1.0000 - val_loss: 7.9788e-04 - val_accuracy: 1.0000\n",
      "Epoch 58/100\n",
      "4/4 [==============================] - 0s 40ms/step - loss: 3.7583e-04 - accuracy: 1.0000 - val_loss: 7.8740e-04 - val_accuracy: 1.0000\n",
      "Epoch 59/100\n",
      "4/4 [==============================] - 0s 53ms/step - loss: 3.6867e-04 - accuracy: 1.0000 - val_loss: 7.7783e-04 - val_accuracy: 1.0000\n",
      "Epoch 60/100\n",
      "4/4 [==============================] - 0s 43ms/step - loss: 3.6186e-04 - accuracy: 1.0000 - val_loss: 7.6895e-04 - val_accuracy: 1.0000\n",
      "Epoch 61/100\n",
      "4/4 [==============================] - 0s 40ms/step - loss: 3.5583e-04 - accuracy: 1.0000 - val_loss: 7.6002e-04 - val_accuracy: 1.0000\n",
      "Epoch 62/100\n",
      "4/4 [==============================] - 0s 43ms/step - loss: 3.4973e-04 - accuracy: 1.0000 - val_loss: 7.5161e-04 - val_accuracy: 1.0000\n",
      "Epoch 63/100\n",
      "4/4 [==============================] - 0s 45ms/step - loss: 3.4408e-04 - accuracy: 1.0000 - val_loss: 7.4360e-04 - val_accuracy: 1.0000\n",
      "Epoch 64/100\n",
      "4/4 [==============================] - 0s 43ms/step - loss: 3.3859e-04 - accuracy: 1.0000 - val_loss: 7.3593e-04 - val_accuracy: 1.0000\n",
      "Epoch 65/100\n",
      "4/4 [==============================] - 0s 59ms/step - loss: 3.3284e-04 - accuracy: 1.0000 - val_loss: 7.2853e-04 - val_accuracy: 1.0000\n",
      "Epoch 66/100\n",
      "4/4 [==============================] - 0s 51ms/step - loss: 3.2772e-04 - accuracy: 1.0000 - val_loss: 7.2153e-04 - val_accuracy: 1.0000\n",
      "Epoch 67/100\n",
      "4/4 [==============================] - 0s 48ms/step - loss: 3.2312e-04 - accuracy: 1.0000 - val_loss: 7.1481e-04 - val_accuracy: 1.0000\n",
      "Epoch 68/100\n",
      "4/4 [==============================] - 0s 43ms/step - loss: 3.1855e-04 - accuracy: 1.0000 - val_loss: 7.0812e-04 - val_accuracy: 1.0000\n",
      "Epoch 69/100\n",
      "4/4 [==============================] - 0s 45ms/step - loss: 3.1286e-04 - accuracy: 1.0000 - val_loss: 7.0153e-04 - val_accuracy: 1.0000\n",
      "Epoch 70/100\n",
      "4/4 [==============================] - 0s 56ms/step - loss: 3.0760e-04 - accuracy: 1.0000 - val_loss: 6.9506e-04 - val_accuracy: 1.0000\n",
      "Epoch 71/100\n",
      "4/4 [==============================] - 0s 48ms/step - loss: 3.0211e-04 - accuracy: 1.0000 - val_loss: 6.8789e-04 - val_accuracy: 1.0000\n",
      "Epoch 72/100\n",
      "4/4 [==============================] - 0s 40ms/step - loss: 2.9630e-04 - accuracy: 1.0000 - val_loss: 6.8008e-04 - val_accuracy: 1.0000\n",
      "Epoch 73/100\n",
      "4/4 [==============================] - 0s 56ms/step - loss: 2.9031e-04 - accuracy: 1.0000 - val_loss: 6.7282e-04 - val_accuracy: 1.0000\n",
      "Epoch 74/100\n",
      "4/4 [==============================] - 0s 45ms/step - loss: 2.8512e-04 - accuracy: 1.0000 - val_loss: 6.6543e-04 - val_accuracy: 1.0000\n",
      "Epoch 75/100\n",
      "4/4 [==============================] - 0s 61ms/step - loss: 2.7980e-04 - accuracy: 1.0000 - val_loss: 6.5846e-04 - val_accuracy: 1.0000\n",
      "Epoch 76/100\n",
      "4/4 [==============================] - 0s 48ms/step - loss: 2.7461e-04 - accuracy: 1.0000 - val_loss: 6.5187e-04 - val_accuracy: 1.0000\n",
      "Epoch 77/100\n",
      "4/4 [==============================] - 0s 67ms/step - loss: 2.6958e-04 - accuracy: 1.0000 - val_loss: 6.4590e-04 - val_accuracy: 1.0000\n",
      "Epoch 78/100\n",
      "4/4 [==============================] - 0s 48ms/step - loss: 2.6475e-04 - accuracy: 1.0000 - val_loss: 6.4005e-04 - val_accuracy: 1.0000\n",
      "Epoch 79/100\n",
      "4/4 [==============================] - 0s 45ms/step - loss: 2.5842e-04 - accuracy: 1.0000 - val_loss: 6.3436e-04 - val_accuracy: 1.0000\n",
      "Epoch 80/100\n",
      "4/4 [==============================] - 0s 48ms/step - loss: 2.5277e-04 - accuracy: 1.0000 - val_loss: 6.2922e-04 - val_accuracy: 1.0000\n",
      "Epoch 81/100\n",
      "4/4 [==============================] - 0s 48ms/step - loss: 2.4825e-04 - accuracy: 1.0000 - val_loss: 6.2421e-04 - val_accuracy: 1.0000\n",
      "Epoch 82/100\n",
      "4/4 [==============================] - 0s 48ms/step - loss: 2.4199e-04 - accuracy: 1.0000 - val_loss: 6.1947e-04 - val_accuracy: 1.0000\n",
      "Epoch 83/100\n",
      "4/4 [==============================] - 0s 56ms/step - loss: 2.3746e-04 - accuracy: 1.0000 - val_loss: 6.1450e-04 - val_accuracy: 1.0000\n",
      "Epoch 84/100\n",
      "4/4 [==============================] - 0s 37ms/step - loss: 2.3330e-04 - accuracy: 1.0000 - val_loss: 6.0951e-04 - val_accuracy: 1.0000\n",
      "Epoch 85/100\n",
      "4/4 [==============================] - 0s 35ms/step - loss: 2.2794e-04 - accuracy: 1.0000 - val_loss: 6.0242e-04 - val_accuracy: 1.0000\n",
      "Epoch 86/100\n",
      "4/4 [==============================] - 0s 51ms/step - loss: 2.2212e-04 - accuracy: 1.0000 - val_loss: 5.9514e-04 - val_accuracy: 1.0000\n",
      "Epoch 87/100\n",
      "4/4 [==============================] - 0s 45ms/step - loss: 2.1829e-04 - accuracy: 1.0000 - val_loss: 5.8839e-04 - val_accuracy: 1.0000\n",
      "Epoch 88/100\n",
      "4/4 [==============================] - 0s 48ms/step - loss: 2.1457e-04 - accuracy: 1.0000 - val_loss: 5.8140e-04 - val_accuracy: 1.0000\n",
      "Epoch 89/100\n",
      "4/4 [==============================] - 0s 67ms/step - loss: 2.1019e-04 - accuracy: 1.0000 - val_loss: 5.7513e-04 - val_accuracy: 1.0000\n",
      "Epoch 90/100\n",
      "4/4 [==============================] - 0s 51ms/step - loss: 2.0628e-04 - accuracy: 1.0000 - val_loss: 5.6931e-04 - val_accuracy: 1.0000\n",
      "Epoch 91/100\n",
      "4/4 [==============================] - 0s 64ms/step - loss: 2.0305e-04 - accuracy: 1.0000 - val_loss: 5.6369e-04 - val_accuracy: 1.0000\n",
      "Epoch 92/100\n",
      "4/4 [==============================] - 0s 48ms/step - loss: 2.0006e-04 - accuracy: 1.0000 - val_loss: 5.5794e-04 - val_accuracy: 1.0000\n",
      "Epoch 93/100\n",
      "4/4 [==============================] - 0s 43ms/step - loss: 1.9636e-04 - accuracy: 1.0000 - val_loss: 5.5281e-04 - val_accuracy: 1.0000\n",
      "Epoch 94/100\n",
      "4/4 [==============================] - 0s 48ms/step - loss: 1.9371e-04 - accuracy: 1.0000 - val_loss: 5.4779e-04 - val_accuracy: 1.0000\n",
      "Epoch 95/100\n",
      "4/4 [==============================] - 0s 50ms/step - loss: 1.9107e-04 - accuracy: 1.0000 - val_loss: 5.4291e-04 - val_accuracy: 1.0000\n",
      "Epoch 96/100\n",
      "4/4 [==============================] - 0s 59ms/step - loss: 1.8819e-04 - accuracy: 1.0000 - val_loss: 5.3843e-04 - val_accuracy: 1.0000\n",
      "Epoch 97/100\n",
      "4/4 [==============================] - 0s 51ms/step - loss: 1.8604e-04 - accuracy: 1.0000 - val_loss: 5.3414e-04 - val_accuracy: 1.0000\n",
      "Epoch 98/100\n",
      "4/4 [==============================] - 0s 56ms/step - loss: 1.8327e-04 - accuracy: 1.0000 - val_loss: 5.3051e-04 - val_accuracy: 1.0000\n",
      "Epoch 99/100\n",
      "4/4 [==============================] - 0s 43ms/step - loss: 1.8113e-04 - accuracy: 1.0000 - val_loss: 5.2696e-04 - val_accuracy: 1.0000\n",
      "Epoch 100/100\n",
      "4/4 [==============================] - 0s 35ms/step - loss: 1.7878e-04 - accuracy: 1.0000 - val_loss: 5.2340e-04 - val_accuracy: 1.0000\n"
     ]
    }
   ],
   "source": [
    "valSet = (validationF, validationLE)\n",
    "history = model.fit(trainF, trainLE, epochs=100, validation_data=valSet) #training the model"
   ]
  },
  {
   "cell_type": "code",
   "execution_count": 76,
   "metadata": {},
   "outputs": [
    {
     "name": "stdout",
     "output_type": "stream",
     "text": [
      "WARNING:tensorflow:5 out of the last 5 calls to <function Model.make_predict_function.<locals>.predict_function at 0x000001F68FF8D870> triggered tf.function retracing. Tracing is expensive and the excessive number of tracings could be due to (1) creating @tf.function repeatedly in a loop, (2) passing tensors with different shapes, (3) passing Python objects instead of tensors. For (1), please define your @tf.function outside of the loop. For (2), @tf.function has experimental_relax_shapes=True option that relaxes argument shapes that can avoid unnecessary retracing. For (3), please refer to https://www.tensorflow.org/guide/function#controlling_retracing and https://www.tensorflow.org/api_docs/python/tf/function for  more details.\n",
      "[[7.6709682e-08 4.8382289e-09 9.9999988e-01]\n",
      " [3.9514187e-08 4.2972554e-09 1.0000000e+00]\n",
      " [2.8931013e-10 7.9374209e-19 1.0000000e+00]\n",
      " [2.4161184e-06 9.9999750e-01 7.4072673e-08]\n",
      " [6.5443068e-11 0.0000000e+00 1.0000000e+00]\n",
      " [1.0000000e+00 1.1353664e-33 4.8147370e-16]\n",
      " [9.4118869e-01 5.7333473e-02 1.4777231e-03]\n",
      " [6.1970606e-04 9.9917114e-01 2.0920776e-04]\n",
      " [6.2089697e-14 5.1294286e-23 1.0000000e+00]\n",
      " [2.0641373e-03 9.9728537e-01 6.5055792e-04]]\n"
     ]
    }
   ],
   "source": [
    "labelPred = model.predict(testF)\n",
    "print(labelPred[:10])"
   ]
  },
  {
   "cell_type": "code",
   "execution_count": 77,
   "metadata": {},
   "outputs": [
    {
     "name": "stdout",
     "output_type": "stream",
     "text": [
      "[2 2 2 1 2 0 1 1 2 1 1 1 1 0 1 0 1 1 2 0 0 2 2 0 0 0 1 0]\n"
     ]
    }
   ],
   "source": [
    "labelTestClass = np.argmax(testLE, axis=1)\n",
    "labelPredClass = np.argmax(labelPred, axis=1)\n",
    "print(labelTestClass)"
   ]
  },
  {
   "cell_type": "code",
   "execution_count": 78,
   "metadata": {},
   "outputs": [
    {
     "name": "stdout",
     "output_type": "stream",
     "text": [
      "              precision    recall  f1-score   support\n",
      "\n",
      "           0       0.90      1.00      0.95         9\n",
      "           1       1.00      0.91      0.95        11\n",
      "           2       1.00      1.00      1.00         8\n",
      "\n",
      "    accuracy                           0.96        28\n",
      "   macro avg       0.97      0.97      0.97        28\n",
      "weighted avg       0.97      0.96      0.96        28\n",
      "\n",
      "[[ 9  0  0]\n",
      " [ 1 10  0]\n",
      " [ 0  0  8]]\n"
     ]
    }
   ],
   "source": [
    "report = classification_report(labelTestClass, labelPredClass)\n",
    "confMatrix = confusion_matrix(labelTestClass, labelPredClass)\n",
    "print(report)\n",
    "print(confMatrix)"
   ]
  },
  {
   "cell_type": "code",
   "execution_count": 80,
   "metadata": {},
   "outputs": [
    {
     "data": {
      "image/png": "[encoded data removed]",
      "text/plain": [
       "<Figure size 432x288 with 1 Axes>"
      ]
     },
     "metadata": {
      "needs_background": "light"
     },
     "output_type": "display_data"
    }
   ],
   "source": [
    "plt.plot(history.history['loss'], label='MAE (training data)')\n",
    "plt.plot(history.history['val_loss'], label='MAE (validation data)')\n",
    "plt.title('MAE wine data')\n",
    "plt.ylabel('MAE value')\n",
    "plt.xlabel('No. epoch')\n",
    "plt.legend(loc=\"upper left\")\n",
    "plt.show()\n",
    "#cuentame que mas ha pasado mijo\n",
    "#aca hablando con mi viejo"
   ]
  }
 ],
 "metadata": {
  "interpreter": {
   "hash": "a749ce9e7f55799ed652412e343278838c2c048e73833d9c0011e1dd1316e4b4"
  },
  "kernelspec": {
   "display_name": "Python 3.10.1 64-bit",
   "language": "python",
   "name": "python3"
  },
  "language_info": {
   "codemirror_mode": {
    "name": "ipython",
    "version": 3
   },
   "file_extension": ".py",
   "mimetype": "text/x-python",
   "name": "python",
   "nbconvert_exporter": "python",
   "pygments_lexer": "ipython3",
   "version": "3.10.1"
  },
  "orig_nbformat": 4
 },
 "nbformat": 4,
 "nbformat_minor": 2
}
