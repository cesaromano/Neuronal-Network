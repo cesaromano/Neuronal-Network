{
 "cells": [
  {
   "cell_type": "code",
   "execution_count": 102,
   "metadata": {},
   "outputs": [],
   "source": [
    "import numpy as np\n",
    "import pandas as pd\n",
    "import tensorflow as tf\n",
    "import keras\n",
    "from sklearn.preprocessing import LabelEncoder\n",
    "from keras.models import Sequential\n",
    "from keras.layers import Dense\n",
    "from tensorflow.keras.optimizers import Adam\n",
    "from sklearn.metrics import classification_report, confusion_matrix\n",
    "import matplotlib.pyplot as plt\n",
    "from scipy.stats import zscore\n",
    "from sklearn.utils import shuffle"
   ]
  },
  {
   "cell_type": "markdown",
   "metadata": {},
   "source": [
    "# a.\tCarregamento do conjunto de dados"
   ]
  },
  {
   "cell_type": "code",
   "execution_count": 103,
   "metadata": {},
   "outputs": [
    {
     "name": "stdout",
     "output_type": "stream",
     "text": [
      "   label  Alcohol  Malic acid   Ash  Alcalinity of ash  Magnesium  \\\n",
      "0      1    14.23        1.71  2.43               15.6        127   \n",
      "1      1    13.20        1.78  2.14               11.2        100   \n",
      "2      1    13.16        2.36  2.67               18.6        101   \n",
      "3      1    14.37        1.95  2.50               16.8        113   \n",
      "4      1    13.24        2.59  2.87               21.0        118   \n",
      "\n",
      "   Total phenols  Flavanoids  Nonflavanoid phenols  Proanthocyanins  \\\n",
      "0           2.80        3.06                  0.28             2.29   \n",
      "1           2.65        2.76                  0.26             1.28   \n",
      "2           2.80        3.24                  0.30             2.81   \n",
      "3           3.85        3.49                  0.24             2.18   \n",
      "4           2.80        2.69                  0.39             1.82   \n",
      "\n",
      "   Color intensity   Hue  OD280/OD315 of diluted wines  Proline  \n",
      "0             5.64  1.04                          3.92     1065  \n",
      "1             4.38  1.05                          3.40     1050  \n",
      "2             5.68  1.03                          3.17     1185  \n",
      "3             7.80  0.86                          3.45     1480  \n",
      "4             4.32  1.04                          2.93      735   (178, 14)\n"
     ]
    }
   ],
   "source": [
    "filePath = 'wine.data' #getting data path\n",
    "\n",
    "data = pd.read_csv(filePath, names=[\"label\", \n",
    "        \"Alcohol\", \"Malic acid\", \"Ash\", \n",
    "\t    \"Alcalinity of ash\", \"Magnesium\",\n",
    "\t    \"Total phenols\", \"Flavanoids\",\n",
    " \t    \"Nonflavanoid phenols\", \"Proanthocyanins\",\n",
    "\t    \"Color intensity\", \"Hue\", \"OD280/OD315 of diluted wines\",\n",
    " \t    \"Proline\"]) #reading data from pandas\n",
    "print(data.head(), data.shape)"
   ]
  },
  {
   "cell_type": "markdown",
   "metadata": {},
   "source": [
    "# b.\tMistura do conjunto de dados"
   ]
  },
  {
   "cell_type": "code",
   "execution_count": 104,
   "metadata": {},
   "outputs": [
    {
     "name": "stdout",
     "output_type": "stream",
     "text": [
      "     label  Alcohol  Malic acid   Ash  Alcalinity of ash  Magnesium  \\\n",
      "58       1    13.72        1.43  2.50               16.7        108   \n",
      "102      2    12.34        2.45  2.46               21.0         98   \n",
      "21       1    12.93        3.80  2.65               18.6        102   \n",
      "92       2    12.69        1.53  2.26               20.7         80   \n",
      "59       2    12.37        0.94  1.36               10.6         88   \n",
      "\n",
      "     Total phenols  Flavanoids  Nonflavanoid phenols  Proanthocyanins  \\\n",
      "58            3.40        3.67                  0.19             2.04   \n",
      "102           2.56        2.11                  0.34             1.31   \n",
      "21            2.41        2.41                  0.25             1.98   \n",
      "92            1.38        1.46                  0.58             1.62   \n",
      "59            1.98        0.57                  0.28             0.42   \n",
      "\n",
      "     Color intensity   Hue  OD280/OD315 of diluted wines  Proline  \n",
      "58              6.80  0.89                          2.87     1285  \n",
      "102             2.80  0.80                          3.38      438  \n",
      "21              4.50  1.03                          3.52      770  \n",
      "92              3.05  0.96                          2.06      495  \n",
      "59              1.95  1.05                          1.82      520   (178, 14)\n"
     ]
    }
   ],
   "source": [
    "data = shuffle(data) #shuffling data\n",
    "print(data.head(), data.shape)"
   ]
  },
  {
   "cell_type": "code",
   "execution_count": 105,
   "metadata": {},
   "outputs": [
    {
     "name": "stdout",
     "output_type": "stream",
     "text": [
      "58     1\n",
      "102    2\n",
      "21     1\n",
      "92     2\n",
      "59     2\n",
      "Name: label, dtype: int64      Alcohol  Malic acid   Ash  Alcalinity of ash  Magnesium  Total phenols  \\\n",
      "58     13.72        1.43  2.50               16.7        108           3.40   \n",
      "102    12.34        2.45  2.46               21.0         98           2.56   \n",
      "21     12.93        3.80  2.65               18.6        102           2.41   \n",
      "92     12.69        1.53  2.26               20.7         80           1.38   \n",
      "59     12.37        0.94  1.36               10.6         88           1.98   \n",
      "\n",
      "     Flavanoids  Nonflavanoid phenols  Proanthocyanins  Color intensity   Hue  \\\n",
      "58         3.67                  0.19             2.04             6.80  0.89   \n",
      "102        2.11                  0.34             1.31             2.80  0.80   \n",
      "21         2.41                  0.25             1.98             4.50  1.03   \n",
      "92         1.46                  0.58             1.62             3.05  0.96   \n",
      "59         0.57                  0.28             0.42             1.95  1.05   \n",
      "\n",
      "     OD280/OD315 of diluted wines  Proline  \n",
      "58                           2.87     1285  \n",
      "102                          3.38      438  \n",
      "21                           3.52      770  \n",
      "92                           2.06      495  \n",
      "59                           1.82      520  \n"
     ]
    }
   ],
   "source": [
    "features = data.drop(['label'], axis=1) #getting the training features\n",
    "labels = data['label'] #getting the training labels\n",
    "print(labels.head(), features.head())"
   ]
  },
  {
   "cell_type": "code",
   "execution_count": 106,
   "metadata": {},
   "outputs": [
    {
     "name": "stdout",
     "output_type": "stream",
     "text": [
      "[[1 0 0]\n",
      " [0 1 0]\n",
      " [1 0 0]\n",
      " [0 1 0]\n",
      " [0 1 0]]      Alcohol  Malic acid   Ash  Alcalinity of ash  Magnesium  Total phenols  \\\n",
      "58     13.72        1.43  2.50               16.7        108           3.40   \n",
      "102    12.34        2.45  2.46               21.0         98           2.56   \n",
      "21     12.93        3.80  2.65               18.6        102           2.41   \n",
      "92     12.69        1.53  2.26               20.7         80           1.38   \n",
      "59     12.37        0.94  1.36               10.6         88           1.98   \n",
      "\n",
      "     Flavanoids  Nonflavanoid phenols  Proanthocyanins  Color intensity   Hue  \\\n",
      "58         3.67                  0.19             2.04             6.80  0.89   \n",
      "102        2.11                  0.34             1.31             2.80  0.80   \n",
      "21         2.41                  0.25             1.98             4.50  1.03   \n",
      "92         1.46                  0.58             1.62             3.05  0.96   \n",
      "59         0.57                  0.28             0.42             1.95  1.05   \n",
      "\n",
      "     OD280/OD315 of diluted wines  Proline  \n",
      "58                           2.87     1285  \n",
      "102                          3.38      438  \n",
      "21                           3.52      770  \n",
      "92                           2.06      495  \n",
      "59                           1.82      520  \n"
     ]
    }
   ],
   "source": [
    "encoder = LabelEncoder() #instantiate encoder class to encode labels\n",
    "lEncoded = encoder.fit_transform(labels) #fitting and transforming data\n",
    "labelsE = pd.get_dummies(lEncoded).values #encoding labels\n",
    "print(labelsE[:5], features.head())"
   ]
  },
  {
   "cell_type": "markdown",
   "metadata": {},
   "source": [
    "# c.\tNormalização das caraterísticas usando zscore"
   ]
  },
  {
   "cell_type": "code",
   "execution_count": 108,
   "metadata": {},
   "outputs": [
    {
     "name": "stdout",
     "output_type": "stream",
     "text": [
      "      Alcohol  Malic acid       Ash  Alcalinity of ash  Magnesium  \\\n",
      "58   0.888627   -0.813595  0.487926          -0.839280   0.579852   \n",
      "102 -0.816038    0.102021  0.341713           0.451946  -0.122282   \n",
      "21  -0.087232    1.313866  1.036228          -0.268738   0.158572   \n",
      "92  -0.383696   -0.723829 -0.389355           0.361860  -1.386122   \n",
      "59  -0.778980   -1.253450 -3.679162          -2.671018  -0.824415   \n",
      "\n",
      "     Total phenols  Flavanoids  Nonflavanoid phenols  Proanthocyanins  \\\n",
      "58        1.770396    1.647239             -1.384766         0.786863   \n",
      "102       0.424438    0.081051             -0.176095        -0.492158   \n",
      "21        0.184088    0.382241             -0.901297         0.681738   \n",
      "92       -1.466313   -0.571528              1.757779         0.050988   \n",
      "59       -0.504914   -1.465058             -0.659563        -2.051513   \n",
      "\n",
      "     Color intensity       Hue  OD280/OD315 of diluted wines   Proline  \n",
      "58          0.753498 -0.295924                      0.364855  1.713598  \n",
      "102        -0.976782 -0.690784                      1.085200 -0.983669  \n",
      "21         -0.241413  0.318304                      1.282942  0.073583  \n",
      "92         -0.868639  0.011190                     -0.779224 -0.802153  \n",
      "59         -1.344466  0.406051                     -1.118210 -0.722540  \n"
     ]
    }
   ],
   "source": [
    "features = features.select_dtypes(include='number').apply(zscore) #normalizing features\n",
    "print(features.head())"
   ]
  },
  {
   "cell_type": "markdown",
   "metadata": {},
   "source": [
    "# d.\tDivisão do conjunto de dados"
   ]
  },
  {
   "cell_type": "code",
   "execution_count": 109,
   "metadata": {},
   "outputs": [
    {
     "name": "stdout",
     "output_type": "stream",
     "text": [
      "(106, 13) (35, 13) (37, 13)\n",
      "(106, 3) (35, 3) (37, 3)\n"
     ]
    }
   ],
   "source": [
    "fd = int(.6*len(data)) #Getting first split index point of division \n",
    "sd = fd+int(.2*len(data)) #Getting second split index point of division\n",
    "\n",
    "trainF, validationF, testF = np.split(features, [fd, sd]) #split data in train, test and validation sets\n",
    "trainLE, validationLE, testLE = np.split(labelsE, [fd, sd]) #split data in train, test and validation sets\n",
    "print(trainF.shape, validationF.shape, testF.shape)\n",
    "print(trainLE.shape, validationLE.shape, testLE.shape)\n",
    "#print(validationLE[:5])"
   ]
  },
  {
   "cell_type": "markdown",
   "metadata": {},
   "source": [
    "# e.\tDefinição da rede:"
   ]
  },
  {
   "cell_type": "code",
   "execution_count": 110,
   "metadata": {},
   "outputs": [
    {
     "name": "stdout",
     "output_type": "stream",
     "text": [
      "Model: \"sequential_8\"\n",
      "_________________________________________________________________\n",
      " Layer (type)                Output Shape              Param #   \n",
      "=================================================================\n",
      " dense_16 (Dense)            (None, 13)                182       \n",
      "                                                                 \n",
      " dense_17 (Dense)            (None, 3)                 42        \n",
      "                                                                 \n",
      "=================================================================\n",
      "Total params: 224\n",
      "Trainable params: 224\n",
      "Non-trainable params: 0\n",
      "_________________________________________________________________\n",
      "None\n"
     ]
    },
    {
     "name": "stderr",
     "output_type": "stream",
     "text": [
      "c:\\Users\\guazo\\AppData\\Local\\Programs\\Python\\Python310\\lib\\site-packages\\keras\\optimizer_v2\\adam.py:105: UserWarning: The `lr` argument is deprecated, use `learning_rate` instead.\n",
      "  super(Adam, self).__init__(name, **kwargs)\n"
     ]
    }
   ],
   "source": [
    "model = Sequential() #instantiate the Sequential module to create the model ones zeros\n",
    "#model.add(Dense(13, kernel_initializer='zeros', input_shape=(13,), activation='relu')) #adding an input layer of 4 perceptrons and as a activation function relu\n",
    "model.add(Dense(13, kernel_initializer='ones', input_shape=(13,), activation='relu')) #adding an input layer of 4 perceptrons and as a activation function relu\n",
    "model.add(Dense(3, activation='softmax')) #adding the output layer\n",
    "model.compile(Adam(lr=0.01), 'categorical_crossentropy', metrics=['accuracy']) #definning the learning rate\n",
    "print(model.summary())"
   ]
  },
  {
   "cell_type": "markdown",
   "metadata": {},
   "source": [
    "# f.\tTreinamento"
   ]
  },
  {
   "cell_type": "code",
   "execution_count": 111,
   "metadata": {},
   "outputs": [],
   "source": [
    "valSet = (validationF, validationLE)\n",
    "history = model.fit(trainF, trainLE, epochs=100, validation_data=valSet, verbose=0) #training the model"
   ]
  },
  {
   "cell_type": "markdown",
   "metadata": {},
   "source": [
    "# g.\tPredição"
   ]
  },
  {
   "cell_type": "code",
   "execution_count": 112,
   "metadata": {},
   "outputs": [
    {
     "name": "stdout",
     "output_type": "stream",
     "text": [
      "[[6.8435934e-04 9.9908292e-01 2.3274253e-04]\n",
      " [1.1708677e-07 1.3249178e-06 9.9999857e-01]\n",
      " [9.9998677e-01 1.2292089e-05 9.3222599e-07]\n",
      " [1.1057234e-05 9.9997735e-01 1.1556406e-05]\n",
      " [4.1951225e-03 2.9111675e-03 9.9289364e-01]\n",
      " [9.9992728e-01 7.2633389e-05 1.3702444e-07]\n",
      " [1.1949497e-03 9.9825078e-01 5.5413513e-04]\n",
      " [3.8039873e-04 9.9946266e-01 1.5690619e-04]\n",
      " [6.6486646e-05 9.9991786e-01 1.5648357e-05]\n",
      " [1.0000000e+00 1.2366172e-11 1.1535768e-09]]\n"
     ]
    }
   ],
   "source": [
    "labelPred = model.predict(testF) #Getting the predictions\n",
    "print(labelPred[:10])"
   ]
  },
  {
   "cell_type": "markdown",
   "metadata": {},
   "source": [
    "# h.\tObtenção dos resultados"
   ]
  },
  {
   "cell_type": "code",
   "execution_count": 113,
   "metadata": {},
   "outputs": [
    {
     "name": "stdout",
     "output_type": "stream",
     "text": [
      "[1 2 0 1 2 0 1 1 1 0 2 2 0 2 0 2 0 0 2 2 0 1 2 1 2 0 2 1 0 1 0 1 2 1 1 2 0]\n"
     ]
    }
   ],
   "source": [
    "labelTestClass = np.argmax(testLE, axis=1) #getting test labels max values to ensure the report and confusion matrix\n",
    "labelPredClass = np.argmax(labelPred, axis=1) #getting test labels predictions max values to ensure the report and confusion matrix\n",
    "print(labelTestClass)"
   ]
  },
  {
   "cell_type": "code",
   "execution_count": 114,
   "metadata": {},
   "outputs": [
    {
     "name": "stdout",
     "output_type": "stream",
     "text": [
      "              precision    recall  f1-score   support\n",
      "\n",
      "           0       1.00      0.92      0.96        12\n",
      "           1       0.92      1.00      0.96        12\n",
      "           2       1.00      1.00      1.00        13\n",
      "\n",
      "    accuracy                           0.97        37\n",
      "   macro avg       0.97      0.97      0.97        37\n",
      "weighted avg       0.98      0.97      0.97        37\n",
      "\n",
      "[[11  1  0]\n",
      " [ 0 12  0]\n",
      " [ 0  0 13]]\n"
     ]
    }
   ],
   "source": [
    "report = classification_report(labelTestClass, labelPredClass) #getting the report\n",
    "confMatrix = confusion_matrix(labelTestClass, labelPredClass) #getting the confusion matrix\n",
    "print(report)\n",
    "print(confMatrix)"
   ]
  },
  {
   "cell_type": "code",
   "execution_count": 115,
   "metadata": {},
   "outputs": [
    {
     "data": {
      "image/png": "[encoded data removed]",
      "text/plain": [
       "<Figure size 432x288 with 1 Axes>"
      ]
     },
     "metadata": {
      "needs_background": "light"
     },
     "output_type": "display_data"
    }
   ],
   "source": [
    "#Plotting the MSE\n",
    "plt.plot(history.history['val_loss'], label='MSE (validation)')\n",
    "plt.ylabel('MSE')\n",
    "plt.xlabel('No. epoch')\n",
    "plt.legend(loc=\"upper left\")\n",
    "plt.savefig('test.jpg', dpi=300, bbox_inches='tight')\n",
    "plt.show()"
   ]
  }
 ],
 "metadata": {
  "interpreter": {
   "hash": "a749ce9e7f55799ed652412e343278838c2c048e73833d9c0011e1dd1316e4b4"
  },
  "kernelspec": {
   "display_name": "Python 3.10.1 64-bit",
   "language": "python",
   "name": "python3"
  },
  "language_info": {
   "codemirror_mode": {
    "name": "ipython",
    "version": 3
   },
   "file_extension": ".py",
   "mimetype": "text/x-python",
   "name": "python",
   "nbconvert_exporter": "python",
   "pygments_lexer": "ipython3",
   "version": "3.10.1"
  },
  "orig_nbformat": 4
 },
 "nbformat": 4,
 "nbformat_minor": 2
}
