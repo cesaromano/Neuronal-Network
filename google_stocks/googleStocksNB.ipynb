{
 "cells": [
  {
   "cell_type": "code",
   "execution_count": 1,
   "metadata": {},
   "outputs": [],
   "source": [
    "import numpy as np\n",
    "import pandas as pd\n",
    "import tensorflow as tf\n",
    "import keras\n",
    "from sklearn.preprocessing import LabelEncoder\n",
    "from keras.models import Sequential\n",
    "from keras.layers import Dense\n",
    "from tensorflow.keras.optimizers import Adam\n",
    "from sklearn.metrics import classification_report, confusion_matrix\n",
    "import matplotlib.pyplot as plt\n",
    "from scipy.stats import zscore\n",
    "from sklearn.utils import shuffle"
   ]
  },
  {
   "cell_type": "code",
   "execution_count": 13,
   "metadata": {},
   "outputs": [
    {
     "name": "stdout",
     "output_type": "stream",
     "text": [
      "          Open      High       Low     Close  Adj Close    Volume\n",
      "4177 -2.445681 -2.462297 -2.476107 -2.549683  -2.549683 -0.442809\n",
      "4178 -2.538956 -2.551888 -2.613986 -2.549974  -2.549974  0.328655\n",
      "4179 -2.527702 -2.577387 -2.581475 -2.582072  -2.582072 -0.238035\n",
      "4180 -2.567255 -2.537324 -2.574772 -2.494623  -2.494623 -0.348287\n",
      "4181 -2.440671 -2.482411 -2.446152 -2.491800  -2.491800 -0.287448           Open      High       Low     Close  Adj Close    Volume\n",
      "4426  0.087355  0.219244  0.105380  0.315364   0.315364  0.984971\n",
      "4427  0.312348  0.285010  0.259054  0.313371   0.313371 -0.323061\n",
      "4428  0.307255  0.611390  0.427391  0.626168   0.626168  0.319752\n",
      "4429  0.520912  0.492139  0.572643  0.493915   0.493915 -0.447557 (254, 6)\n"
     ]
    }
   ],
   "source": [
    "filePath = 'GOOGL.csv' #getting data path\n",
    "\n",
    "#Date,Open,High,Low,Close,Adj Close,Volume\n",
    "\n",
    "data = pd.read_csv(filePath, names=[\"Date\", \n",
    "        \"Open\", \"High\", \"Low\", \n",
    "\t    \"Close\", \"Adj Close\",\n",
    "\t    \"Volume\"]) #read data from pandas\n",
    "\n",
    "data = data.truncate(before=4177) #getting data from 2021 to 2022\n",
    "\n",
    "data = data.select_dtypes(include='number').apply(zscore) \n",
    "\n",
    "print(data.head(), data[-5:-1], data.shape)"
   ]
  },
  {
   "cell_type": "code",
   "execution_count": 15,
   "metadata": {},
   "outputs": [
    {
     "name": "stdout",
     "output_type": "stream",
     "text": [
      "4177   -2.549683\n",
      "4178   -2.549974\n",
      "4179   -2.582072\n",
      "4180   -2.494623\n",
      "4181   -2.491800\n",
      "Name: Close, dtype: float64 4426    0.315364\n",
      "4427    0.313371\n",
      "4428    0.626168\n",
      "4429    0.493915\n",
      "Name: Close, dtype: float64           Open      High       Low  Adj Close    Volume\n",
      "4177 -2.445681 -2.462297 -2.476107  -2.549683 -0.442809\n",
      "4178 -2.538956 -2.551888 -2.613986  -2.549974  0.328655\n",
      "4179 -2.527702 -2.577387 -2.581475  -2.582072 -0.238035\n",
      "4180 -2.567255 -2.537324 -2.574772  -2.494623 -0.348287\n",
      "4181 -2.440671 -2.482411 -2.446152  -2.491800 -0.287448\n"
     ]
    }
   ],
   "source": [
    "features = data.drop(['Close'], axis=1) #getting the training features\n",
    "labels = data['Close'] #getting the training labels\n",
    "print(labels.head(), labels[-5:-1],features.head())"
   ]
  },
  {
   "cell_type": "code",
   "execution_count": 16,
   "metadata": {},
   "outputs": [
    {
     "name": "stdout",
     "output_type": "stream",
     "text": [
      "(177, 5) (38, 5) (39, 5)\n",
      "(177,) (38,) (39,)\n"
     ]
    }
   ],
   "source": [
    "fd = int(.7*len(data)) #Getting first split index point of division \n",
    "sd = fd+int(.15*len(data)) #Getting second split index point of division\n",
    "\n",
    "trainF, validationF, testF = np.split(features, [fd, sd]) #split data in train, test and validation sets\n",
    "trainLE, validationLE, testLE = np.split(labels, [fd, sd]) #split data in train, test and validation sets\n",
    "print(trainF.shape, validationF.shape, testF.shape)\n",
    "print(trainLE.shape, validationLE.shape, testLE.shape)\n",
    "#print(validationLE[:5])"
   ]
  },
  {
   "cell_type": "code",
   "execution_count": 17,
   "metadata": {},
   "outputs": [
    {
     "name": "stdout",
     "output_type": "stream",
     "text": [
      "Model: \"sequential\"\n",
      "_________________________________________________________________\n",
      " Layer (type)                Output Shape              Param #   \n",
      "=================================================================\n",
      " dense (Dense)               (None, 1)                 6         \n",
      "                                                                 \n",
      "=================================================================\n",
      "Total params: 6\n",
      "Trainable params: 6\n",
      "Non-trainable params: 0\n",
      "_________________________________________________________________\n",
      "None\n"
     ]
    },
    {
     "name": "stderr",
     "output_type": "stream",
     "text": [
      "c:\\Users\\guazo\\AppData\\Local\\Programs\\Python\\Python310\\lib\\site-packages\\keras\\optimizer_v2\\adam.py:105: UserWarning: The `lr` argument is deprecated, use `learning_rate` instead.\n",
      "  super(Adam, self).__init__(name, **kwargs)\n"
     ]
    }
   ],
   "source": [
    "model = Sequential() #instantiate the Sequential module to create the model\n",
    "#model.add(Dense(13, input_shape=(13,), activation='relu')) #adding an input layer of 4 perceptrons and as a activation function relu\n",
    "#model.add(Dense(13, kernel_initializer='zeros', input_shape=(13,), activation='relu')) #adding an input layer of 4 perceptrons and as a activation function relu\n",
    "#model.add(Dense(2, kernel_initializer='ones', input_dim=5, activation='relu')) #adding an input layer of 4 perceptrons and as a activation function relu\n",
    "#model.add(Dense(1, activation='linear')) #adding the output layer\n",
    "model.add(Dense(1, input_dim=5, activation='linear')) #adding the output layer\n",
    "model.compile(Adam(lr=0.2), loss='mean_absolute_error', metrics=['mae','mse']) #definning the learning rate\n",
    "print(model.summary())"
   ]
  },
  {
   "cell_type": "code",
   "execution_count": 18,
   "metadata": {},
   "outputs": [
    {
     "name": "stdout",
     "output_type": "stream",
     "text": [
      "Epoch 1/100\n",
      "6/6 [==============================] - 2s 139ms/step - loss: 0.3736 - mae: 0.3736 - mse: 0.2294 - val_loss: 0.3301 - val_mae: 0.3301 - val_mse: 0.1708\n",
      "Epoch 2/100\n",
      "6/6 [==============================] - 0s 57ms/step - loss: 0.2563 - mae: 0.2563 - mse: 0.1116 - val_loss: 0.1445 - val_mae: 0.1445 - val_mse: 0.0271\n",
      "Epoch 3/100\n",
      "6/6 [==============================] - 0s 45ms/step - loss: 0.1651 - mae: 0.1651 - mse: 0.0426 - val_loss: 0.1676 - val_mae: 0.1676 - val_mse: 0.0388\n",
      "Epoch 4/100\n",
      "6/6 [==============================] - 0s 33ms/step - loss: 0.1908 - mae: 0.1908 - mse: 0.0604 - val_loss: 0.1520 - val_mae: 0.1520 - val_mse: 0.0277\n",
      "Epoch 5/100\n",
      "6/6 [==============================] - 0s 33ms/step - loss: 0.1381 - mae: 0.1381 - mse: 0.0259 - val_loss: 0.1401 - val_mae: 0.1401 - val_mse: 0.0243\n",
      "Epoch 6/100\n",
      "6/6 [==============================] - 0s 34ms/step - loss: 0.0976 - mae: 0.0976 - mse: 0.0149 - val_loss: 0.1216 - val_mae: 0.1216 - val_mse: 0.0190\n",
      "Epoch 7/100\n",
      "6/6 [==============================] - 0s 30ms/step - loss: 0.0860 - mae: 0.0860 - mse: 0.0109 - val_loss: 0.0488 - val_mae: 0.0488 - val_mse: 0.0048\n",
      "Epoch 8/100\n",
      "6/6 [==============================] - 0s 31ms/step - loss: 0.0688 - mae: 0.0688 - mse: 0.0075 - val_loss: 0.0908 - val_mae: 0.0908 - val_mse: 0.0109\n",
      "Epoch 9/100\n",
      "6/6 [==============================] - 0s 48ms/step - loss: 0.0831 - mae: 0.0831 - mse: 0.0101 - val_loss: 0.0710 - val_mae: 0.0710 - val_mse: 0.0065\n",
      "Epoch 10/100\n",
      "6/6 [==============================] - 0s 46ms/step - loss: 0.0762 - mae: 0.0762 - mse: 0.0081 - val_loss: 0.0525 - val_mae: 0.0525 - val_mse: 0.0036\n",
      "Epoch 11/100\n",
      "6/6 [==============================] - 0s 34ms/step - loss: 0.0808 - mae: 0.0808 - mse: 0.0121 - val_loss: 0.1405 - val_mae: 0.1405 - val_mse: 0.0249\n",
      "Epoch 12/100\n",
      "6/6 [==============================] - 0s 28ms/step - loss: 0.1739 - mae: 0.1739 - mse: 0.0478 - val_loss: 0.0389 - val_mae: 0.0389 - val_mse: 0.0027\n",
      "Epoch 13/100\n",
      "6/6 [==============================] - 0s 31ms/step - loss: 0.1172 - mae: 0.1172 - mse: 0.0203 - val_loss: 0.1591 - val_mae: 0.1591 - val_mse: 0.0291\n",
      "Epoch 14/100\n",
      "6/6 [==============================] - 0s 30ms/step - loss: 0.0834 - mae: 0.0834 - mse: 0.0102 - val_loss: 0.0726 - val_mae: 0.0726 - val_mse: 0.0067\n",
      "Epoch 15/100\n",
      "6/6 [==============================] - 0s 36ms/step - loss: 0.0668 - mae: 0.0668 - mse: 0.0072 - val_loss: 0.0205 - val_mae: 0.0205 - val_mse: 9.3225e-04\n",
      "Epoch 16/100\n",
      "6/6 [==============================] - 0s 42ms/step - loss: 0.0668 - mae: 0.0668 - mse: 0.0080 - val_loss: 0.0829 - val_mae: 0.0829 - val_mse: 0.0084\n",
      "Epoch 17/100\n",
      "6/6 [==============================] - 0s 33ms/step - loss: 0.1077 - mae: 0.1077 - mse: 0.0182 - val_loss: 0.0328 - val_mae: 0.0328 - val_mse: 0.0014\n",
      "Epoch 18/100\n",
      "6/6 [==============================] - 0s 25ms/step - loss: 0.0697 - mae: 0.0697 - mse: 0.0076 - val_loss: 0.0874 - val_mae: 0.0874 - val_mse: 0.0097\n",
      "Epoch 19/100\n",
      "6/6 [==============================] - 0s 26ms/step - loss: 0.0945 - mae: 0.0945 - mse: 0.0125 - val_loss: 0.0499 - val_mae: 0.0499 - val_mse: 0.0031\n",
      "Epoch 20/100\n",
      "6/6 [==============================] - 0s 30ms/step - loss: 0.0917 - mae: 0.0917 - mse: 0.0126 - val_loss: 0.0681 - val_mae: 0.0681 - val_mse: 0.0058\n",
      "Epoch 21/100\n",
      "6/6 [==============================] - 0s 43ms/step - loss: 0.0584 - mae: 0.0584 - mse: 0.0047 - val_loss: 0.1018 - val_mae: 0.1018 - val_mse: 0.0120\n",
      "Epoch 22/100\n",
      "6/6 [==============================] - 0s 30ms/step - loss: 0.0724 - mae: 0.0724 - mse: 0.0077 - val_loss: 0.1116 - val_mae: 0.1116 - val_mse: 0.0149\n",
      "Epoch 23/100\n",
      "6/6 [==============================] - 0s 32ms/step - loss: 0.0775 - mae: 0.0775 - mse: 0.0087 - val_loss: 0.1149 - val_mae: 0.1149 - val_mse: 0.0160\n",
      "Epoch 24/100\n",
      "6/6 [==============================] - 0s 33ms/step - loss: 0.0854 - mae: 0.0854 - mse: 0.0102 - val_loss: 0.1022 - val_mae: 0.1022 - val_mse: 0.0122\n",
      "Epoch 25/100\n",
      "6/6 [==============================] - 0s 32ms/step - loss: 0.0573 - mae: 0.0573 - mse: 0.0045 - val_loss: 0.0624 - val_mae: 0.0624 - val_mse: 0.0050\n",
      "Epoch 26/100\n",
      "6/6 [==============================] - 0s 31ms/step - loss: 0.0374 - mae: 0.0374 - mse: 0.0022 - val_loss: 0.0536 - val_mae: 0.0536 - val_mse: 0.0036\n",
      "Epoch 27/100\n",
      "6/6 [==============================] - 0s 29ms/step - loss: 0.0625 - mae: 0.0625 - mse: 0.0058 - val_loss: 0.0917 - val_mae: 0.0917 - val_mse: 0.0105\n",
      "Epoch 28/100\n",
      "6/6 [==============================] - 0s 27ms/step - loss: 0.0715 - mae: 0.0715 - mse: 0.0074 - val_loss: 0.0264 - val_mae: 0.0264 - val_mse: 8.9179e-04\n",
      "Epoch 29/100\n",
      "6/6 [==============================] - 0s 29ms/step - loss: 0.0491 - mae: 0.0491 - mse: 0.0038 - val_loss: 0.0679 - val_mae: 0.0679 - val_mse: 0.0056\n",
      "Epoch 30/100\n",
      "6/6 [==============================] - 0s 28ms/step - loss: 0.0714 - mae: 0.0714 - mse: 0.0076 - val_loss: 0.0378 - val_mae: 0.0378 - val_mse: 0.0018\n",
      "Epoch 31/100\n",
      "6/6 [==============================] - 0s 29ms/step - loss: 0.0523 - mae: 0.0523 - mse: 0.0039 - val_loss: 0.1248 - val_mae: 0.1248 - val_mse: 0.0182\n",
      "Epoch 32/100\n",
      "6/6 [==============================] - 0s 27ms/step - loss: 0.0566 - mae: 0.0566 - mse: 0.0051 - val_loss: 0.1066 - val_mae: 0.1066 - val_mse: 0.0136\n",
      "Epoch 33/100\n",
      "6/6 [==============================] - 0s 29ms/step - loss: 0.0715 - mae: 0.0715 - mse: 0.0079 - val_loss: 0.0495 - val_mae: 0.0495 - val_mse: 0.0032\n",
      "Epoch 34/100\n",
      "6/6 [==============================] - 0s 28ms/step - loss: 0.0858 - mae: 0.0858 - mse: 0.0123 - val_loss: 0.1106 - val_mae: 0.1106 - val_mse: 0.0125\n",
      "Epoch 35/100\n",
      "6/6 [==============================] - 0s 30ms/step - loss: 0.0542 - mae: 0.0542 - mse: 0.0044 - val_loss: 0.0632 - val_mae: 0.0632 - val_mse: 0.0055\n",
      "Epoch 36/100\n",
      "6/6 [==============================] - 0s 25ms/step - loss: 0.0562 - mae: 0.0562 - mse: 0.0058 - val_loss: 0.0643 - val_mae: 0.0643 - val_mse: 0.0065\n",
      "Epoch 37/100\n",
      "6/6 [==============================] - 0s 29ms/step - loss: 0.0463 - mae: 0.0463 - mse: 0.0038 - val_loss: 0.0662 - val_mae: 0.0662 - val_mse: 0.0046\n",
      "Epoch 38/100\n",
      "6/6 [==============================] - 0s 30ms/step - loss: 0.0483 - mae: 0.0483 - mse: 0.0037 - val_loss: 0.0513 - val_mae: 0.0513 - val_mse: 0.0035\n",
      "Epoch 39/100\n",
      "6/6 [==============================] - 0s 30ms/step - loss: 0.0493 - mae: 0.0493 - mse: 0.0038 - val_loss: 0.0412 - val_mae: 0.0412 - val_mse: 0.0021\n",
      "Epoch 40/100\n",
      "6/6 [==============================] - 0s 27ms/step - loss: 0.0382 - mae: 0.0382 - mse: 0.0025 - val_loss: 0.0272 - val_mae: 0.0272 - val_mse: 0.0013\n",
      "Epoch 41/100\n",
      "6/6 [==============================] - 0s 27ms/step - loss: 0.0579 - mae: 0.0579 - mse: 0.0047 - val_loss: 0.0694 - val_mae: 0.0694 - val_mse: 0.0085\n",
      "Epoch 42/100\n",
      "6/6 [==============================] - 0s 28ms/step - loss: 0.0478 - mae: 0.0478 - mse: 0.0039 - val_loss: 0.0395 - val_mae: 0.0395 - val_mse: 0.0018\n",
      "Epoch 43/100\n",
      "6/6 [==============================] - 0s 31ms/step - loss: 0.0397 - mae: 0.0397 - mse: 0.0025 - val_loss: 0.0481 - val_mae: 0.0481 - val_mse: 0.0028\n",
      "Epoch 44/100\n",
      "6/6 [==============================] - 0s 37ms/step - loss: 0.0641 - mae: 0.0641 - mse: 0.0055 - val_loss: 0.0283 - val_mae: 0.0283 - val_mse: 0.0014\n",
      "Epoch 45/100\n",
      "6/6 [==============================] - 0s 26ms/step - loss: 0.0380 - mae: 0.0380 - mse: 0.0026 - val_loss: 0.0347 - val_mae: 0.0347 - val_mse: 0.0012\n",
      "Epoch 46/100\n",
      "6/6 [==============================] - 0s 28ms/step - loss: 0.0698 - mae: 0.0698 - mse: 0.0068 - val_loss: 0.0424 - val_mae: 0.0424 - val_mse: 0.0024\n",
      "Epoch 47/100\n",
      "6/6 [==============================] - 0s 26ms/step - loss: 0.0477 - mae: 0.0477 - mse: 0.0037 - val_loss: 0.0318 - val_mae: 0.0318 - val_mse: 0.0019\n",
      "Epoch 48/100\n",
      "6/6 [==============================] - 0s 40ms/step - loss: 0.0891 - mae: 0.0891 - mse: 0.0133 - val_loss: 0.1155 - val_mae: 0.1155 - val_mse: 0.0165\n",
      "Epoch 49/100\n",
      "6/6 [==============================] - 0s 44ms/step - loss: 0.1002 - mae: 0.1002 - mse: 0.0141 - val_loss: 0.0803 - val_mae: 0.0803 - val_mse: 0.0079\n",
      "Epoch 50/100\n",
      "6/6 [==============================] - 0s 34ms/step - loss: 0.0871 - mae: 0.0871 - mse: 0.0119 - val_loss: 0.0377 - val_mae: 0.0377 - val_mse: 0.0023\n",
      "Epoch 51/100\n",
      "6/6 [==============================] - 0s 40ms/step - loss: 0.0910 - mae: 0.0910 - mse: 0.0120 - val_loss: 0.0473 - val_mae: 0.0473 - val_mse: 0.0030\n",
      "Epoch 52/100\n",
      "6/6 [==============================] - 0s 38ms/step - loss: 0.0741 - mae: 0.0741 - mse: 0.0080 - val_loss: 0.0215 - val_mae: 0.0215 - val_mse: 5.8860e-04\n",
      "Epoch 53/100\n",
      "6/6 [==============================] - 0s 44ms/step - loss: 0.0365 - mae: 0.0365 - mse: 0.0026 - val_loss: 0.0214 - val_mae: 0.0214 - val_mse: 9.4725e-04\n",
      "Epoch 54/100\n",
      "6/6 [==============================] - 0s 30ms/step - loss: 0.0459 - mae: 0.0459 - mse: 0.0047 - val_loss: 0.0061 - val_mae: 0.0061 - val_mse: 6.0844e-05\n",
      "Epoch 55/100\n",
      "6/6 [==============================] - 0s 41ms/step - loss: 0.0671 - mae: 0.0671 - mse: 0.0088 - val_loss: 0.0460 - val_mae: 0.0460 - val_mse: 0.0026\n",
      "Epoch 56/100\n",
      "6/6 [==============================] - 0s 32ms/step - loss: 0.0336 - mae: 0.0336 - mse: 0.0024 - val_loss: 0.0615 - val_mae: 0.0615 - val_mse: 0.0045\n",
      "Epoch 57/100\n",
      "6/6 [==============================] - 0s 30ms/step - loss: 0.0426 - mae: 0.0426 - mse: 0.0039 - val_loss: 0.0456 - val_mae: 0.0456 - val_mse: 0.0048\n",
      "Epoch 58/100\n",
      "6/6 [==============================] - 0s 31ms/step - loss: 0.0433 - mae: 0.0433 - mse: 0.0050 - val_loss: 0.0581 - val_mae: 0.0581 - val_mse: 0.0064\n",
      "Epoch 59/100\n",
      "6/6 [==============================] - 0s 30ms/step - loss: 0.0563 - mae: 0.0563 - mse: 0.0060 - val_loss: 0.0746 - val_mae: 0.0746 - val_mse: 0.0083\n",
      "Epoch 60/100\n",
      "6/6 [==============================] - 0s 29ms/step - loss: 0.0936 - mae: 0.0936 - mse: 0.0162 - val_loss: 0.0590 - val_mae: 0.0590 - val_mse: 0.0050\n",
      "Epoch 61/100\n",
      "6/6 [==============================] - 0s 31ms/step - loss: 0.0827 - mae: 0.0827 - mse: 0.0110 - val_loss: 0.0707 - val_mae: 0.0707 - val_mse: 0.0062\n",
      "Epoch 62/100\n",
      "6/6 [==============================] - 0s 29ms/step - loss: 0.0904 - mae: 0.0904 - mse: 0.0125 - val_loss: 0.1391 - val_mae: 0.1391 - val_mse: 0.0237\n",
      "Epoch 63/100\n",
      "6/6 [==============================] - 0s 27ms/step - loss: 0.0967 - mae: 0.0967 - mse: 0.0137 - val_loss: 0.1154 - val_mae: 0.1154 - val_mse: 0.0162\n",
      "Epoch 64/100\n",
      "6/6 [==============================] - 0s 32ms/step - loss: 0.1029 - mae: 0.1029 - mse: 0.0165 - val_loss: 0.1015 - val_mae: 0.1015 - val_mse: 0.0126\n",
      "Epoch 65/100\n",
      "6/6 [==============================] - 0s 27ms/step - loss: 0.0959 - mae: 0.0959 - mse: 0.0138 - val_loss: 0.0618 - val_mae: 0.0618 - val_mse: 0.0049\n",
      "Epoch 66/100\n",
      "6/6 [==============================] - 0s 28ms/step - loss: 0.0839 - mae: 0.0839 - mse: 0.0115 - val_loss: 0.0428 - val_mae: 0.0428 - val_mse: 0.0025\n",
      "Epoch 67/100\n",
      "6/6 [==============================] - 0s 35ms/step - loss: 0.0887 - mae: 0.0887 - mse: 0.0116 - val_loss: 0.1266 - val_mae: 0.1266 - val_mse: 0.0165\n",
      "Epoch 68/100\n",
      "6/6 [==============================] - 0s 33ms/step - loss: 0.0842 - mae: 0.0842 - mse: 0.0116 - val_loss: 0.0525 - val_mae: 0.0525 - val_mse: 0.0043\n",
      "Epoch 69/100\n",
      "6/6 [==============================] - 0s 53ms/step - loss: 0.0536 - mae: 0.0536 - mse: 0.0047 - val_loss: 0.0221 - val_mae: 0.0221 - val_mse: 8.9467e-04\n",
      "Epoch 70/100\n",
      "6/6 [==============================] - 0s 38ms/step - loss: 0.0646 - mae: 0.0646 - mse: 0.0070 - val_loss: 0.0991 - val_mae: 0.0991 - val_mse: 0.0121\n",
      "Epoch 71/100\n",
      "6/6 [==============================] - 0s 30ms/step - loss: 0.1231 - mae: 0.1231 - mse: 0.0225 - val_loss: 0.0303 - val_mae: 0.0303 - val_mse: 0.0013\n",
      "Epoch 72/100\n",
      "6/6 [==============================] - 0s 23ms/step - loss: 0.0580 - mae: 0.0580 - mse: 0.0055 - val_loss: 0.0344 - val_mae: 0.0344 - val_mse: 0.0014\n",
      "Epoch 73/100\n",
      "6/6 [==============================] - 0s 26ms/step - loss: 0.0534 - mae: 0.0534 - mse: 0.0043 - val_loss: 0.0388 - val_mae: 0.0388 - val_mse: 0.0023\n",
      "Epoch 74/100\n",
      "6/6 [==============================] - 0s 31ms/step - loss: 0.0477 - mae: 0.0477 - mse: 0.0035 - val_loss: 0.0170 - val_mae: 0.0170 - val_mse: 4.6550e-04\n",
      "Epoch 75/100\n",
      "6/6 [==============================] - 0s 28ms/step - loss: 0.0872 - mae: 0.0872 - mse: 0.0143 - val_loss: 0.0636 - val_mae: 0.0636 - val_mse: 0.0055\n",
      "Epoch 76/100\n",
      "6/6 [==============================] - 0s 27ms/step - loss: 0.1512 - mae: 0.1512 - mse: 0.0357 - val_loss: 0.1652 - val_mae: 0.1652 - val_mse: 0.0338\n",
      "Epoch 77/100\n",
      "6/6 [==============================] - 0s 27ms/step - loss: 0.1631 - mae: 0.1631 - mse: 0.0374 - val_loss: 0.1823 - val_mae: 0.1823 - val_mse: 0.0405\n",
      "Epoch 78/100\n",
      "6/6 [==============================] - 0s 29ms/step - loss: 0.1386 - mae: 0.1386 - mse: 0.0264 - val_loss: 0.0758 - val_mae: 0.0758 - val_mse: 0.0073\n",
      "Epoch 79/100\n",
      "6/6 [==============================] - 0s 27ms/step - loss: 0.1679 - mae: 0.1679 - mse: 0.0436 - val_loss: 0.1084 - val_mae: 0.1084 - val_mse: 0.0147\n",
      "Epoch 80/100\n",
      "6/6 [==============================] - 0s 27ms/step - loss: 0.1276 - mae: 0.1276 - mse: 0.0267 - val_loss: 0.0649 - val_mae: 0.0649 - val_mse: 0.0053\n",
      "Epoch 81/100\n",
      "6/6 [==============================] - 0s 29ms/step - loss: 0.0602 - mae: 0.0602 - mse: 0.0055 - val_loss: 0.0254 - val_mae: 0.0254 - val_mse: 8.0356e-04\n",
      "Epoch 82/100\n",
      "6/6 [==============================] - 0s 26ms/step - loss: 0.0500 - mae: 0.0500 - mse: 0.0039 - val_loss: 0.0106 - val_mae: 0.0106 - val_mse: 2.4956e-04\n",
      "Epoch 83/100\n",
      "6/6 [==============================] - 0s 30ms/step - loss: 0.1006 - mae: 0.1006 - mse: 0.0159 - val_loss: 0.0526 - val_mae: 0.0526 - val_mse: 0.0037\n",
      "Epoch 84/100\n",
      "6/6 [==============================] - 0s 30ms/step - loss: 0.0617 - mae: 0.0617 - mse: 0.0057 - val_loss: 0.0127 - val_mae: 0.0127 - val_mse: 2.2278e-04\n",
      "Epoch 85/100\n",
      "6/6 [==============================] - 0s 30ms/step - loss: 0.0612 - mae: 0.0612 - mse: 0.0071 - val_loss: 0.0402 - val_mae: 0.0402 - val_mse: 0.0017\n",
      "Epoch 86/100\n",
      "6/6 [==============================] - 0s 29ms/step - loss: 0.0543 - mae: 0.0543 - mse: 0.0040 - val_loss: 0.0645 - val_mae: 0.0645 - val_mse: 0.0074\n",
      "Epoch 87/100\n",
      "6/6 [==============================] - 0s 27ms/step - loss: 0.0826 - mae: 0.0826 - mse: 0.0128 - val_loss: 0.0687 - val_mae: 0.0687 - val_mse: 0.0056\n",
      "Epoch 88/100\n",
      "6/6 [==============================] - 0s 28ms/step - loss: 0.0541 - mae: 0.0541 - mse: 0.0044 - val_loss: 0.0398 - val_mae: 0.0398 - val_mse: 0.0023\n",
      "Epoch 89/100\n",
      "6/6 [==============================] - 0s 37ms/step - loss: 0.0733 - mae: 0.0733 - mse: 0.0076 - val_loss: 0.0461 - val_mae: 0.0461 - val_mse: 0.0024\n",
      "Epoch 90/100\n",
      "6/6 [==============================] - 0s 27ms/step - loss: 0.0845 - mae: 0.0845 - mse: 0.0116 - val_loss: 0.0544 - val_mae: 0.0544 - val_mse: 0.0037\n",
      "Epoch 91/100\n",
      "6/6 [==============================] - 0s 28ms/step - loss: 0.0796 - mae: 0.0796 - mse: 0.0097 - val_loss: 0.0663 - val_mae: 0.0663 - val_mse: 0.0054\n",
      "Epoch 92/100\n",
      "6/6 [==============================] - 0s 27ms/step - loss: 0.0651 - mae: 0.0651 - mse: 0.0069 - val_loss: 0.0272 - val_mae: 0.0272 - val_mse: 0.0010\n",
      "Epoch 93/100\n",
      "6/6 [==============================] - 0s 30ms/step - loss: 0.0812 - mae: 0.0812 - mse: 0.0102 - val_loss: 0.0361 - val_mae: 0.0361 - val_mse: 0.0014\n",
      "Epoch 94/100\n",
      "6/6 [==============================] - 0s 26ms/step - loss: 0.0892 - mae: 0.0892 - mse: 0.0133 - val_loss: 0.0316 - val_mae: 0.0316 - val_mse: 0.0014\n",
      "Epoch 95/100\n",
      "6/6 [==============================] - 0s 28ms/step - loss: 0.1126 - mae: 0.1126 - mse: 0.0217 - val_loss: 0.1606 - val_mae: 0.1606 - val_mse: 0.0324\n",
      "Epoch 96/100\n",
      "6/6 [==============================] - 0s 28ms/step - loss: 0.1670 - mae: 0.1670 - mse: 0.0433 - val_loss: 0.0397 - val_mae: 0.0397 - val_mse: 0.0023\n",
      "Epoch 97/100\n",
      "6/6 [==============================] - 0s 29ms/step - loss: 0.1088 - mae: 0.1088 - mse: 0.0210 - val_loss: 0.1453 - val_mae: 0.1453 - val_mse: 0.0254\n",
      "Epoch 98/100\n",
      "6/6 [==============================] - 0s 28ms/step - loss: 0.0821 - mae: 0.0821 - mse: 0.0102 - val_loss: 0.0298 - val_mae: 0.0298 - val_mse: 0.0013\n",
      "Epoch 99/100\n",
      "6/6 [==============================] - 0s 27ms/step - loss: 0.0836 - mae: 0.0836 - mse: 0.0102 - val_loss: 0.0428 - val_mae: 0.0428 - val_mse: 0.0022\n",
      "Epoch 100/100\n",
      "6/6 [==============================] - 0s 26ms/step - loss: 0.0591 - mae: 0.0591 - mse: 0.0056 - val_loss: 0.0353 - val_mae: 0.0353 - val_mse: 0.0021\n"
     ]
    }
   ],
   "source": [
    "valSet = (validationF, validationLE)\n",
    "history = model.fit(trainF, trainLE, epochs=100, validation_data=valSet) #training the model"
   ]
  },
  {
   "cell_type": "code",
   "execution_count": 19,
   "metadata": {},
   "outputs": [
    {
     "name": "stdout",
     "output_type": "stream",
     "text": [
      "[[0.15121283]\n",
      " [0.25720978]\n",
      " [0.28962168]\n",
      " [0.7824106 ]\n",
      " [0.6590874 ]\n",
      " [0.7611264 ]\n",
      " [0.44941747]\n",
      " [0.48737237]\n",
      " [0.7163454 ]\n",
      " [0.49090984]]\n"
     ]
    }
   ],
   "source": [
    "labelPred = model.predict(testF)\n",
    "print(labelPred[:10])"
   ]
  },
  {
   "cell_type": "code",
   "execution_count": 20,
   "metadata": {},
   "outputs": [
    {
     "data": {
      "image/png": "[encoded data removed]",
      "text/plain": [
       "<Figure size 432x288 with 1 Axes>"
      ]
     },
     "metadata": {
      "needs_background": "light"
     },
     "output_type": "display_data"
    }
   ],
   "source": [
    "plt.plot(history.history['loss'], label='MAE (training data)')\n",
    "plt.plot(history.history['val_loss'], label='MAE (validation data)')\n",
    "plt.title('MAE wine data')\n",
    "plt.ylabel('MAE value')\n",
    "plt.xlabel('No. epoch')\n",
    "plt.legend(loc=\"upper left\")\n",
    "plt.show()"
   ]
  }
 ],
 "metadata": {
  "interpreter": {
   "hash": "a749ce9e7f55799ed652412e343278838c2c048e73833d9c0011e1dd1316e4b4"
  },
  "kernelspec": {
   "display_name": "Python 3.10.1 64-bit",
   "language": "python",
   "name": "python3"
  },
  "language_info": {
   "codemirror_mode": {
    "name": "ipython",
    "version": 3
   },
   "file_extension": ".py",
   "mimetype": "text/x-python",
   "name": "python",
   "nbconvert_exporter": "python",
   "pygments_lexer": "ipython3",
   "version": "3.10.1"
  },
  "orig_nbformat": 4
 },
 "nbformat": 4,
 "nbformat_minor": 2
}
