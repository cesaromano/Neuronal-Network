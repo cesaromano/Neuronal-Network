{
 "cells": [
  {
   "cell_type": "code",
   "execution_count": 267,
   "metadata": {},
   "outputs": [],
   "source": [
    "import numpy as np\n",
    "import pandas as pd\n",
    "import tensorflow as tf\n",
    "import keras\n",
    "from sklearn.preprocessing import LabelEncoder\n",
    "from keras.models import Sequential\n",
    "from keras.layers import Dense\n",
    "from tensorflow.keras.optimizers import Adam\n",
    "from sklearn.metrics import classification_report, confusion_matrix\n",
    "import matplotlib.pyplot as plt\n",
    "from scipy.stats import zscore\n",
    "from sklearn.utils import shuffle"
   ]
  },
  {
   "cell_type": "markdown",
   "metadata": {},
   "source": [
    "# a.\tCarregamento do conjunto de dados público das ações do google, o conjunto de dados foi baixado do site web kaggle."
   ]
  },
  {
   "cell_type": "code",
   "execution_count": 268,
   "metadata": {},
   "outputs": [
    {
     "name": "stdout",
     "output_type": "stream",
     "text": [
      "          Open      High       Low     Close  Adj Close    Volume\n",
      "4177 -2.445681 -2.462297 -2.476107 -2.549683  -2.549683 -0.442809\n",
      "4178 -2.538956 -2.551888 -2.613986 -2.549974  -2.549974  0.328655\n",
      "4179 -2.527702 -2.577387 -2.581475 -2.582072  -2.582072 -0.238035\n",
      "4180 -2.567255 -2.537324 -2.574772 -2.494623  -2.494623 -0.348287\n",
      "4181 -2.440671 -2.482411 -2.446152 -2.491800  -2.491800 -0.287448           Open      High       Low     Close  Adj Close    Volume\n",
      "4426  0.087355  0.219244  0.105380  0.315364   0.315364  0.984971\n",
      "4427  0.312348  0.285010  0.259054  0.313371   0.313371 -0.323061\n",
      "4428  0.307255  0.611390  0.427391  0.626168   0.626168  0.319752\n",
      "4429  0.520912  0.492139  0.572643  0.493915   0.493915 -0.447557 (254, 6)\n"
     ]
    }
   ],
   "source": [
    "filePath = 'GOOGL.csv' #getting data path\n",
    "\n",
    "#Date,Open,High,Low,Close,Adj Close,Volume\n",
    "\n",
    "data = pd.read_csv(filePath, names=[\"Date\", \n",
    "        \"Open\", \"High\", \"Low\", \n",
    "\t    \"Close\", \"Adj Close\",\n",
    "\t    \"Volume\"]) #read data from pandas\n",
    "\n",
    "print(data.head(), data[-5:-1], data.shape)"
   ]
  },
  {
   "cell_type": "markdown",
   "metadata": {},
   "source": [
    "# b.\tOs dados são truncados para obter o período desejado: 2021/03/24 – 2022/03/24"
   ]
  },
  {
   "cell_type": "code",
   "execution_count": null,
   "metadata": {},
   "outputs": [],
   "source": [
    "data = data.truncate(before=4177) #getting data from 2021 to 2022\n",
    "print(data.head(), data[-5:-1], data.shape)"
   ]
  },
  {
   "cell_type": "markdown",
   "metadata": {},
   "source": [
    "# c.\tNormalização do conjunto de dados usando zscore"
   ]
  },
  {
   "cell_type": "code",
   "execution_count": null,
   "metadata": {},
   "outputs": [],
   "source": [
    "data = data.select_dtypes(include='number').apply(zscore) #Normalizing datafrem\n",
    "print(data.head(), data[-5:-1], data.shape)"
   ]
  },
  {
   "cell_type": "markdown",
   "metadata": {},
   "source": [
    "# d.\tDivisão do conjunto de dados"
   ]
  },
  {
   "cell_type": "code",
   "execution_count": 269,
   "metadata": {},
   "outputs": [
    {
     "name": "stdout",
     "output_type": "stream",
     "text": [
      "4177   -2.549683\n",
      "4178   -2.549974\n",
      "4179   -2.582072\n",
      "4180   -2.494623\n",
      "4181   -2.491800\n",
      "Name: Close, dtype: float64 4426    0.315364\n",
      "4427    0.313371\n",
      "4428    0.626168\n",
      "4429    0.493915\n",
      "Name: Close, dtype: float64           Open      High       Low  Adj Close    Volume\n",
      "4177 -2.445681 -2.462297 -2.476107  -2.549683 -0.442809\n",
      "4178 -2.538956 -2.551888 -2.613986  -2.549974  0.328655\n",
      "4179 -2.527702 -2.577387 -2.581475  -2.582072 -0.238035\n",
      "4180 -2.567255 -2.537324 -2.574772  -2.494623 -0.348287\n",
      "4181 -2.440671 -2.482411 -2.446152  -2.491800 -0.287448\n"
     ]
    }
   ],
   "source": [
    "features = data.drop(['Close'], axis=1) #getting the training features\n",
    "#features = features.select_dtypes(include='number').apply(zscore) \n",
    "labels = data['Close'] #getting the training labels\n",
    "print(labels.head(), labels[-5:-1],features.head())"
   ]
  },
  {
   "cell_type": "code",
   "execution_count": 270,
   "metadata": {},
   "outputs": [
    {
     "name": "stdout",
     "output_type": "stream",
     "text": [
      "(177, 5) (38, 5) (39, 5)\n",
      "(177,) (38,) (39,)\n"
     ]
    }
   ],
   "source": [
    "fd = int(.7*len(data)) #Getting first split index point of division \n",
    "sd = fd+int(.15*len(data)) #Getting second split index point of division\n",
    "\n",
    "trainF, validationF, testF = np.split(features, [fd, sd]) #split data in train, test and validation sets\n",
    "trainLE, validationLE, testLE = np.split(labels, [fd, sd]) #split data in train, test and validation sets\n",
    "print(trainF.shape, validationF.shape, testF.shape)\n",
    "print(trainLE.shape, validationLE.shape, testLE.shape)\n",
    "#print(validationLE[:5])"
   ]
  },
  {
   "cell_type": "markdown",
   "metadata": {},
   "source": [
    "# e.\tDefinição da rede para tarefa de regressão linear"
   ]
  },
  {
   "cell_type": "code",
   "execution_count": 271,
   "metadata": {},
   "outputs": [
    {
     "name": "stdout",
     "output_type": "stream",
     "text": [
      "Model: \"sequential_33\"\n",
      "_________________________________________________________________\n",
      " Layer (type)                Output Shape              Param #   \n",
      "=================================================================\n",
      " dense_48 (Dense)            (None, 3)                 18        \n",
      "                                                                 \n",
      " dense_49 (Dense)            (None, 1)                 4         \n",
      "                                                                 \n",
      "=================================================================\n",
      "Total params: 22\n",
      "Trainable params: 22\n",
      "Non-trainable params: 0\n",
      "_________________________________________________________________\n",
      "None\n"
     ]
    },
    {
     "name": "stderr",
     "output_type": "stream",
     "text": [
      "c:\\Users\\guazo\\AppData\\Local\\Programs\\Python\\Python310\\lib\\site-packages\\keras\\optimizer_v2\\adam.py:105: UserWarning: The `lr` argument is deprecated, use `learning_rate` instead.\n",
      "  super(Adam, self).__init__(name, **kwargs)\n"
     ]
    }
   ],
   "source": [
    "model = Sequential() #instantiate the Sequential module to create the model\n",
    "model.add(Dense(3, input_dim=5, activation='relu')) #adding the input layer\n",
    "#model.add(Dense(2, input_dim=5, activation='relu')) #adding the input layer\n",
    "model.add(Dense(1, input_dim=5, activation='linear')) #adding the output layer\n",
    "model.compile(Adam(lr=0.01), loss='mean_absolute_error', metrics=['mae','mse']) #definning the learning rate\n",
    "print(model.summary())"
   ]
  },
  {
   "cell_type": "markdown",
   "metadata": {},
   "source": [
    "# f.\tTreinamento"
   ]
  },
  {
   "cell_type": "code",
   "execution_count": 272,
   "metadata": {},
   "outputs": [],
   "source": [
    "valSet = (validationF, validationLE)\n",
    "history = model.fit(trainF, trainLE, epochs=100, validation_data=valSet, verbose= 0) #training the model"
   ]
  },
  {
   "cell_type": "markdown",
   "metadata": {},
   "source": [
    "# g.\tPredição"
   ]
  },
  {
   "cell_type": "code",
   "execution_count": 273,
   "metadata": {},
   "outputs": [
    {
     "name": "stdout",
     "output_type": "stream",
     "text": [
      "[[0.094]\n",
      " [0.223]\n",
      " [0.383]\n",
      " [1.24 ]\n",
      " [0.982]\n",
      " [0.901]\n",
      " [0.613]\n",
      " [0.551]\n",
      " [0.75 ]\n",
      " [0.543]]\n",
      "4392    0.085\n",
      "4393    0.247\n",
      "4394    0.441\n",
      "4395    1.302\n",
      "4396    0.894\n",
      "4397    0.911\n",
      "4398    0.571\n",
      "4399    0.587\n",
      "4400    0.769\n",
      "4401    0.523\n",
      "Name: Close, dtype: float64\n"
     ]
    }
   ],
   "source": [
    "labelPred = model.predict(testF) #getting predictions\n",
    "print(np.around(labelPred[:10], 3))\n",
    "#print(labelPred[:10])\n",
    "print(np.around(testLE[:10], 3))\n",
    "#print(testLE[:10])"
   ]
  },
  {
   "cell_type": "markdown",
   "metadata": {},
   "source": [
    "# h.\tObtenção dos resultados"
   ]
  },
  {
   "cell_type": "code",
   "execution_count": 274,
   "metadata": {},
   "outputs": [
    {
     "data": {
      "image/png": "[encoded data removed]",
      "text/plain": [
       "<Figure size 432x288 with 1 Axes>"
      ]
     },
     "metadata": {
      "needs_background": "light"
     },
     "output_type": "display_data"
    }
   ],
   "source": [
    "#Plotting data\n",
    "plt.plot(history.history['val_loss'], label='MSE (validation)')\n",
    "plt.ylabel('MSE')\n",
    "plt.xlabel('No. epoch')\n",
    "plt.legend(loc=\"upper left\")\n",
    "plt.savefig('test.jpg', dpi=300, bbox_inches='tight')\n",
    "plt.show()"
   ]
  }
 ],
 "metadata": {
  "interpreter": {
   "hash": "a749ce9e7f55799ed652412e343278838c2c048e73833d9c0011e1dd1316e4b4"
  },
  "kernelspec": {
   "display_name": "Python 3.10.1 64-bit",
   "language": "python",
   "name": "python3"
  },
  "language_info": {
   "codemirror_mode": {
    "name": "ipython",
    "version": 3
   },
   "file_extension": ".py",
   "mimetype": "text/x-python",
   "name": "python",
   "nbconvert_exporter": "python",
   "pygments_lexer": "ipython3",
   "version": "3.10.1"
  },
  "orig_nbformat": 4
 },
 "nbformat": 4,
 "nbformat_minor": 2
}
