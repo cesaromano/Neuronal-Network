{
 "cells": [
  {
   "cell_type": "code",
   "execution_count": 377,
   "metadata": {},
   "outputs": [],
   "source": [
    "import numpy as np\n",
    "import pandas as pd\n",
    "import tensorflow as tf\n",
    "import keras\n",
    "from sklearn.preprocessing import LabelEncoder\n",
    "from keras.models import Sequential\n",
    "from keras.layers import Dense\n",
    "from tensorflow.keras.optimizers import Adam\n",
    "from sklearn.metrics import classification_report, confusion_matrix\n",
    "import matplotlib.pyplot as plt"
   ]
  },
  {
   "cell_type": "markdown",
   "metadata": {},
   "source": [
    "# b.\tCarregamento do conjunto de dados"
   ]
  },
  {
   "cell_type": "code",
   "execution_count": 378,
   "metadata": {},
   "outputs": [],
   "source": [
    "filePath = 'Iris/iris.data' #getting data path\n",
    "newFile = 'Iris/iris-mixed.data' #path of new mixed data"
   ]
  },
  {
   "cell_type": "code",
   "execution_count": 379,
   "metadata": {},
   "outputs": [
    {
     "name": "stdout",
     "output_type": "stream",
     "text": [
      "    sl   sw   pl   pw            label\n",
      "0  5.1  3.5  1.4  0.2      Iris-setosa\n",
      "1  7.0  3.2  4.7  1.4  Iris-versicolor\n",
      "2  6.3  3.3  6.0  2.5   Iris-virginica\n",
      "3  4.9  3.0  1.4  0.2      Iris-setosa\n",
      "4  6.4  3.2  4.5  1.5  Iris-versicolor (150, 5)\n"
     ]
    }
   ],
   "source": [
    "filePath = 'iris-mixed.data' #renaming filepath\n",
    "\n",
    "data = pd.read_csv(filePath, names=[\"sl\", \"sw\", \"pl\", \"pw\", \"label\"]) #read data from pandas\n",
    "print(data.head(), data.shape)"
   ]
  },
  {
   "cell_type": "code",
   "execution_count": 380,
   "metadata": {},
   "outputs": [
    {
     "name": "stdout",
     "output_type": "stream",
     "text": [
      "0        Iris-setosa\n",
      "1    Iris-versicolor\n",
      "2     Iris-virginica\n",
      "3        Iris-setosa\n",
      "4    Iris-versicolor\n",
      "Name: label, dtype: object     sl   sw   pl   pw\n",
      "0  5.1  3.5  1.4  0.2\n",
      "1  7.0  3.2  4.7  1.4\n",
      "2  6.3  3.3  6.0  2.5\n",
      "3  4.9  3.0  1.4  0.2\n",
      "4  6.4  3.2  4.5  1.5\n"
     ]
    }
   ],
   "source": [
    "features = data.drop(['label'], axis=1) #getting the training features\n",
    "labels = data['label'] #getting the training labels\n",
    "print(labels.head(), features.head())"
   ]
  },
  {
   "cell_type": "markdown",
   "metadata": {},
   "source": [
    "# c. Codificação das classes no vetor de classes [0,1,2] "
   ]
  },
  {
   "cell_type": "code",
   "execution_count": 381,
   "metadata": {},
   "outputs": [
    {
     "name": "stdout",
     "output_type": "stream",
     "text": [
      "[[1 0 0]\n",
      " [0 1 0]\n",
      " [0 0 1]\n",
      " [1 0 0]\n",
      " [0 1 0]]     sl   sw   pl   pw\n",
      "0  5.1  3.5  1.4  0.2\n",
      "1  7.0  3.2  4.7  1.4\n",
      "2  6.3  3.3  6.0  2.5\n",
      "3  4.9  3.0  1.4  0.2\n",
      "4  6.4  3.2  4.5  1.5\n"
     ]
    }
   ],
   "source": [
    "encoder = LabelEncoder() #instantiate encoder class to encode labels\n",
    "lEncoded = encoder.fit_transform(labels) #fitting and transforming data\n",
    "labelsE = pd.get_dummies(lEncoded).values #encoding labels\n",
    "print(labelsE[:5], features.head())"
   ]
  },
  {
   "cell_type": "code",
   "execution_count": 382,
   "metadata": {},
   "outputs": [
    {
     "name": "stdout",
     "output_type": "stream",
     "text": [
      "0          Iris-setosa\n",
      "1      Iris-versicolor\n",
      "2       Iris-virginica\n",
      "3          Iris-setosa\n",
      "4      Iris-versicolor\n",
      "            ...       \n",
      "145    Iris-versicolor\n",
      "146     Iris-virginica\n",
      "147        Iris-setosa\n",
      "148    Iris-versicolor\n",
      "149     Iris-virginica\n",
      "Name: label, Length: 150, dtype: object\n",
      "      sl   sw   pl   pw\n",
      "0    5.1  3.5  1.4  0.2\n",
      "1    7.0  3.2  4.7  1.4\n",
      "2    6.3  3.3  6.0  2.5\n",
      "3    4.9  3.0  1.4  0.2\n",
      "4    6.4  3.2  4.5  1.5\n",
      "..   ...  ...  ...  ...\n",
      "145  5.1  2.5  3.0  1.1\n",
      "146  6.2  3.4  5.4  2.3\n",
      "147  5.0  3.3  1.4  0.2\n",
      "148  5.7  2.8  4.1  1.3\n",
      "149  5.9  3.0  5.1  1.8\n",
      "\n",
      "[150 rows x 4 columns]\n"
     ]
    }
   ],
   "source": [
    "trainLabel = data['label'] #getting the training labels\n",
    "trainFeat = data.drop(['label'], axis=1) #getting the training features\n",
    "print(trainLabel)\n",
    "print(trainFeat)"
   ]
  },
  {
   "cell_type": "markdown",
   "metadata": {},
   "source": [
    "# d. Divisão do conjunto de dados nas percentagens"
   ]
  },
  {
   "cell_type": "code",
   "execution_count": 383,
   "metadata": {},
   "outputs": [
    {
     "name": "stdout",
     "output_type": "stream",
     "text": [
      "[[1 0 0]\n",
      " [0 1 0]\n",
      " [0 0 1]\n",
      " [1 0 0]\n",
      " [0 1 0]]\n"
     ]
    }
   ],
   "source": [
    "fd = int(.7*len(data)) #Getting first split index point of division \n",
    "sd = fd+int(.15*len(data)) #Getting second split index point of division\n",
    "\n",
    "trainF, validationF, testF = np.split(features, [fd, sd]) #split data in train, test and validation sets\n",
    "trainLE, validationLE, testLE = np.split(labelsE, [fd, sd]) #split data in train, test and validation sets\n",
    "#print(trainF.shape, validationF.shape, testF.shape)\n",
    "#print(trainLE.shape, validationLE.shape, testLE.shape)\n",
    "print(validationLE[:5])"
   ]
  },
  {
   "cell_type": "markdown",
   "metadata": {},
   "source": [
    "# e. Definição da rede"
   ]
  },
  {
   "cell_type": "code",
   "execution_count": 384,
   "metadata": {},
   "outputs": [
    {
     "name": "stdout",
     "output_type": "stream",
     "text": [
      "Model: \"sequential_27\"\n",
      "_________________________________________________________________\n",
      " Layer (type)                Output Shape              Param #   \n",
      "=================================================================\n",
      " dense_54 (Dense)            (None, 4)                 20        \n",
      "                                                                 \n",
      " dense_55 (Dense)            (None, 3)                 15        \n",
      "                                                                 \n",
      "=================================================================\n",
      "Total params: 35\n",
      "Trainable params: 35\n",
      "Non-trainable params: 0\n",
      "_________________________________________________________________\n",
      "None\n"
     ]
    },
    {
     "name": "stderr",
     "output_type": "stream",
     "text": [
      "c:\\Users\\guazo\\AppData\\Local\\Programs\\Python\\Python310\\lib\\site-packages\\keras\\optimizer_v2\\adam.py:105: UserWarning: The `lr` argument is deprecated, use `learning_rate` instead.\n",
      "  super(Adam, self).__init__(name, **kwargs)\n"
     ]
    }
   ],
   "source": [
    "model = Sequential() #instantiate the Sequential module to create the model\n",
    "model.add(Dense(4, kernel_initializer='ones', input_shape=(4,), activation='relu')) #adding an input layer of 4 perceptrons, w = 1 and as a activation function relu\n",
    "#model.add(Dense(4, kernel_initializer='zeros', input_shape=(4,), activation='relu')) #adding an input layer of 4 perceptrons, w = 0 and as a activation function relu\n",
    "model.add(Dense(3, activation='softmax')) #adding the output layer\n",
    "model.compile(Adam(lr=0.01), 'categorical_crossentropy', metrics=['accuracy']) #definning the learning rate\n",
    "print(model.summary())"
   ]
  },
  {
   "cell_type": "markdown",
   "metadata": {},
   "source": [
    "# f. Treinamento"
   ]
  },
  {
   "cell_type": "code",
   "execution_count": 385,
   "metadata": {},
   "outputs": [],
   "source": [
    "valSet = (validationF, validationLE)\n",
    "history = model.fit(trainF, trainLE, epochs=100, validation_data=valSet, verbose=0) #training the model"
   ]
  },
  {
   "cell_type": "markdown",
   "metadata": {},
   "source": [
    "# g. Predição"
   ]
  },
  {
   "cell_type": "code",
   "execution_count": 386,
   "metadata": {},
   "outputs": [],
   "source": [
    "#print(history.history)"
   ]
  },
  {
   "cell_type": "code",
   "execution_count": 387,
   "metadata": {},
   "outputs": [
    {
     "name": "stdout",
     "output_type": "stream",
     "text": [
      "[[5.5274744e-02 5.8044255e-01 3.6428270e-01]\n",
      " [3.5670830e-03 3.5752010e-01 6.3891280e-01]\n",
      " [8.5996395e-01 1.1893846e-01 2.1097558e-02]\n",
      " [1.2618016e-01 5.9063023e-01 2.8318954e-01]\n",
      " [9.0566592e-04 2.6151437e-01 7.3758000e-01]\n",
      " [8.8673437e-01 9.8026261e-02 1.5239375e-02]\n",
      " [3.7957184e-02 5.4560763e-01 4.1643518e-01]\n",
      " [8.0075988e-04 2.3397735e-01 7.6522189e-01]\n",
      " [8.9389592e-01 9.3852744e-02 1.2251432e-02]\n",
      " [5.8858026e-02 5.6334311e-01 3.7779880e-01]]\n"
     ]
    }
   ],
   "source": [
    "labelPred = model.predict(testF) #Getting the predictions\n",
    "print(labelPred[:10])"
   ]
  },
  {
   "cell_type": "markdown",
   "metadata": {},
   "source": [
    "# h. Obtenção dos resultados"
   ]
  },
  {
   "cell_type": "code",
   "execution_count": 388,
   "metadata": {},
   "outputs": [
    {
     "name": "stdout",
     "output_type": "stream",
     "text": [
      "[1 2 0 1 2 0 1 2 0 1 2 0 1 2 0 1 2 0 1 2 0 1 2]\n"
     ]
    }
   ],
   "source": [
    "labelTestClass = np.argmax(testLE, axis=1) #getting test labels max values to ensure the report and confusion matrix\n",
    "labelPredClass = np.argmax(labelPred, axis=1) #getting test labels predictions max values to ensure the report and confusion matrix\n",
    "print(labelTestClass)"
   ]
  },
  {
   "cell_type": "code",
   "execution_count": 389,
   "metadata": {},
   "outputs": [
    {
     "name": "stdout",
     "output_type": "stream",
     "text": [
      "              precision    recall  f1-score   support\n",
      "\n",
      "           0       1.00      1.00      1.00         7\n",
      "           1       1.00      1.00      1.00         8\n",
      "           2       1.00      1.00      1.00         8\n",
      "\n",
      "    accuracy                           1.00        23\n",
      "   macro avg       1.00      1.00      1.00        23\n",
      "weighted avg       1.00      1.00      1.00        23\n",
      "\n",
      "[[7 0 0]\n",
      " [0 8 0]\n",
      " [0 0 8]]\n"
     ]
    }
   ],
   "source": [
    "report = classification_report(labelTestClass, labelPredClass) #getting the report\n",
    "confMatrix = confusion_matrix(labelTestClass, labelPredClass) #getting the confusion matrix\n",
    "print(report)\n",
    "print(confMatrix)"
   ]
  },
  {
   "cell_type": "code",
   "execution_count": 391,
   "metadata": {},
   "outputs": [
    {
     "data": {
      "image/png": "[encoded data removed]",
      "text/plain": [
       "<Figure size 432x288 with 1 Axes>"
      ]
     },
     "metadata": {
      "needs_background": "light"
     },
     "output_type": "display_data"
    }
   ],
   "source": [
    "#Plotting the MSE\n",
    "plt.plot(history.history['val_loss'], label='MSE (validation)')\n",
    "plt.ylabel('MSE')\n",
    "plt.xlabel('No. epoch')\n",
    "plt.legend(loc=\"upper left\")\n",
    "plt.savefig('test.jpg', dpi=300, bbox_inches='tight')\n",
    "plt.show()"
   ]
  }
 ],
 "metadata": {
  "interpreter": {
   "hash": "a749ce9e7f55799ed652412e343278838c2c048e73833d9c0011e1dd1316e4b4"
  },
  "kernelspec": {
   "display_name": "Python 3.10.1 64-bit",
   "language": "python",
   "name": "python3"
  },
  "language_info": {
   "codemirror_mode": {
    "name": "ipython",
    "version": 3
   },
   "file_extension": ".py",
   "mimetype": "text/x-python",
   "name": "python",
   "nbconvert_exporter": "python",
   "pygments_lexer": "ipython3",
   "version": "3.10.1"
  },
  "orig_nbformat": 4
 },
 "nbformat": 4,
 "nbformat_minor": 2
}
