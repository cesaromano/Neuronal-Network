{
 "cells": [
  {
   "cell_type": "code",
   "execution_count": 17,
   "metadata": {},
   "outputs": [],
   "source": [
    "import numpy as np\n",
    "import pandas as pd\n",
    "import tensorflow as tf\n",
    "import keras\n",
    "from sklearn.preprocessing import LabelEncoder\n",
    "from keras.models import Sequential\n",
    "from keras.layers import Dense\n",
    "from tensorflow.keras.optimizers import Adam\n",
    "from sklearn.metrics import classification_report, confusion_matrix\n",
    "import matplotlib.pyplot as plt"
   ]
  },
  {
   "cell_type": "code",
   "execution_count": 18,
   "metadata": {},
   "outputs": [],
   "source": [
    "filePath = 'Iris/iris.data' #getting data path\n",
    "newFile = 'Iris/iris-mixed.data' #path of new mixed data"
   ]
  },
  {
   "cell_type": "code",
   "execution_count": 19,
   "metadata": {},
   "outputs": [
    {
     "name": "stdout",
     "output_type": "stream",
     "text": [
      "    sl   sw   pl   pw            label\n",
      "0  5.1  3.5  1.4  0.2      Iris-setosa\n",
      "1  7.0  3.2  4.7  1.4  Iris-versicolor\n",
      "2  6.3  3.3  6.0  2.5   Iris-virginica\n",
      "3  4.9  3.0  1.4  0.2      Iris-setosa\n",
      "4  6.4  3.2  4.5  1.5  Iris-versicolor (150, 5)\n"
     ]
    }
   ],
   "source": [
    "filePath = 'iris-mixed.data' #renaming filepath\n",
    "\n",
    "data = pd.read_csv(filePath, names=[\"sl\", \"sw\", \"pl\", \"pw\", \"label\"]) #read data from pandas\n",
    "print(data.head(), data.shape)"
   ]
  },
  {
   "cell_type": "code",
   "execution_count": 20,
   "metadata": {},
   "outputs": [
    {
     "name": "stdout",
     "output_type": "stream",
     "text": [
      "0        Iris-setosa\n",
      "1    Iris-versicolor\n",
      "2     Iris-virginica\n",
      "3        Iris-setosa\n",
      "4    Iris-versicolor\n",
      "Name: label, dtype: object     sl   sw   pl   pw\n",
      "0  5.1  3.5  1.4  0.2\n",
      "1  7.0  3.2  4.7  1.4\n",
      "2  6.3  3.3  6.0  2.5\n",
      "3  4.9  3.0  1.4  0.2\n",
      "4  6.4  3.2  4.5  1.5\n"
     ]
    }
   ],
   "source": [
    "features = data.drop(['label'], axis=1) #getting the training features\n",
    "labels = data['label'] #getting the training labels\n",
    "print(labels.head(), features.head())"
   ]
  },
  {
   "cell_type": "code",
   "execution_count": 21,
   "metadata": {},
   "outputs": [
    {
     "name": "stdout",
     "output_type": "stream",
     "text": [
      "[[1 0 0]\n",
      " [0 1 0]\n",
      " [0 0 1]\n",
      " [1 0 0]\n",
      " [0 1 0]]     sl   sw   pl   pw\n",
      "0  5.1  3.5  1.4  0.2\n",
      "1  7.0  3.2  4.7  1.4\n",
      "2  6.3  3.3  6.0  2.5\n",
      "3  4.9  3.0  1.4  0.2\n",
      "4  6.4  3.2  4.5  1.5\n"
     ]
    }
   ],
   "source": [
    "encoder = LabelEncoder() #instantiate encoder class to encode labels\n",
    "lEncoded = encoder.fit_transform(labels) #fitting and transforming data\n",
    "labelsE = pd.get_dummies(lEncoded).values #encoding labels\n",
    "print(labelsE[:5], features.head())"
   ]
  },
  {
   "cell_type": "code",
   "execution_count": 22,
   "metadata": {},
   "outputs": [
    {
     "name": "stdout",
     "output_type": "stream",
     "text": [
      "0          Iris-setosa\n",
      "1      Iris-versicolor\n",
      "2       Iris-virginica\n",
      "3          Iris-setosa\n",
      "4      Iris-versicolor\n",
      "            ...       \n",
      "145    Iris-versicolor\n",
      "146     Iris-virginica\n",
      "147        Iris-setosa\n",
      "148    Iris-versicolor\n",
      "149     Iris-virginica\n",
      "Name: label, Length: 150, dtype: object\n",
      "      sl   sw   pl   pw\n",
      "0    5.1  3.5  1.4  0.2\n",
      "1    7.0  3.2  4.7  1.4\n",
      "2    6.3  3.3  6.0  2.5\n",
      "3    4.9  3.0  1.4  0.2\n",
      "4    6.4  3.2  4.5  1.5\n",
      "..   ...  ...  ...  ...\n",
      "145  5.1  2.5  3.0  1.1\n",
      "146  6.2  3.4  5.4  2.3\n",
      "147  5.0  3.3  1.4  0.2\n",
      "148  5.7  2.8  4.1  1.3\n",
      "149  5.9  3.0  5.1  1.8\n",
      "\n",
      "[150 rows x 4 columns]\n"
     ]
    }
   ],
   "source": [
    "trainLabel = data['label'] #getting the training labels\n",
    "trainFeat = data.drop(['label'], axis=1) #getting the training features\n",
    "\n",
    "print(trainLabel)\n",
    "print(trainFeat)"
   ]
  },
  {
   "cell_type": "code",
   "execution_count": 23,
   "metadata": {},
   "outputs": [
    {
     "name": "stdout",
     "output_type": "stream",
     "text": [
      "[[1 0 0]\n",
      " [0 1 0]\n",
      " [0 0 1]\n",
      " [1 0 0]\n",
      " [0 1 0]]\n"
     ]
    }
   ],
   "source": [
    "fd = int(.7*len(data)) #Getting first split index point of division \n",
    "sd = fd+int(.15*len(data)) #Getting second split index point of division\n",
    "\n",
    "trainF, validationF, testF = np.split(features, [fd, sd]) #split data in train, test and validation sets\n",
    "trainLE, validationLE, testLE = np.split(labelsE, [fd, sd]) #split data in train, test and validation sets\n",
    "#print(trainF.shape, validationF.shape, testF.shape)\n",
    "#print(trainLE.shape, validationLE.shape, testLE.shape)\n",
    "print(validationLE[:5])"
   ]
  },
  {
   "cell_type": "code",
   "execution_count": 24,
   "metadata": {},
   "outputs": [
    {
     "name": "stdout",
     "output_type": "stream",
     "text": [
      "Model: \"sequential_1\"\n",
      "_________________________________________________________________\n",
      " Layer (type)                Output Shape              Param #   \n",
      "=================================================================\n",
      " dense_2 (Dense)             (None, 4)                 20        \n",
      "                                                                 \n",
      " dense_3 (Dense)             (None, 3)                 15        \n",
      "                                                                 \n",
      "=================================================================\n",
      "Total params: 35\n",
      "Trainable params: 35\n",
      "Non-trainable params: 0\n",
      "_________________________________________________________________\n",
      "None\n"
     ]
    },
    {
     "name": "stderr",
     "output_type": "stream",
     "text": [
      "c:\\Users\\guazo\\AppData\\Local\\Programs\\Python\\Python310\\lib\\site-packages\\keras\\optimizer_v2\\adam.py:105: UserWarning: The `lr` argument is deprecated, use `learning_rate` instead.\n",
      "  super(Adam, self).__init__(name, **kwargs)\n"
     ]
    }
   ],
   "source": [
    "model = Sequential() #instantiate the Sequential module to create the model\n",
    "#model.add(Dense(4, input_shape=(4,), activation='relu')) #adding an input layer of 4 perceptrons and as a activation function relu\n",
    "#model.add(Dense(4, kernel_initializer='zeros', input_shape=(4,), activation='relu')) #adding an input layer of 4 perceptrons and as a activation function relu\n",
    "model.add(Dense(4, kernel_initializer='ones', input_shape=(4,), activation='relu')) #adding an input layer of 4 perceptrons and as a activation function relu\n",
    "model.add(Dense(3, activation='softmax')) #adding the output layer\n",
    "model.compile(Adam(lr=0.2), 'categorical_crossentropy', metrics=['accuracy']) #definning the learning rate\n",
    "print(model.summary())"
   ]
  },
  {
   "cell_type": "code",
   "execution_count": 25,
   "metadata": {},
   "outputs": [
    {
     "name": "stdout",
     "output_type": "stream",
     "text": [
      "Epoch 1/100\n",
      "4/4 [==============================] - 2s 177ms/step - loss: 8.5555 - accuracy: 0.3429 - val_loss: 1.5456 - val_accuracy: 0.3182\n",
      "Epoch 2/100\n",
      "4/4 [==============================] - 0s 32ms/step - loss: 2.3695 - accuracy: 0.4190 - val_loss: 1.7406 - val_accuracy: 0.3636\n",
      "Epoch 3/100\n",
      "4/4 [==============================] - 0s 32ms/step - loss: 1.4805 - accuracy: 0.5238 - val_loss: 0.8475 - val_accuracy: 0.6364\n",
      "Epoch 4/100\n",
      "4/4 [==============================] - 0s 42ms/step - loss: 1.0553 - accuracy: 0.6190 - val_loss: 0.6290 - val_accuracy: 0.6818\n",
      "Epoch 5/100\n",
      "4/4 [==============================] - 0s 37ms/step - loss: 0.6477 - accuracy: 0.7429 - val_loss: 0.8591 - val_accuracy: 0.6818\n",
      "Epoch 6/100\n",
      "4/4 [==============================] - 0s 30ms/step - loss: 0.7160 - accuracy: 0.6762 - val_loss: 0.6141 - val_accuracy: 0.6818\n",
      "Epoch 7/100\n",
      "4/4 [==============================] - 0s 30ms/step - loss: 0.6688 - accuracy: 0.6667 - val_loss: 0.3886 - val_accuracy: 0.6818\n",
      "Epoch 8/100\n",
      "4/4 [==============================] - 0s 30ms/step - loss: 0.4503 - accuracy: 0.7333 - val_loss: 0.4768 - val_accuracy: 0.6818\n",
      "Epoch 9/100\n",
      "4/4 [==============================] - 0s 33ms/step - loss: 0.4160 - accuracy: 0.7714 - val_loss: 0.4009 - val_accuracy: 0.6818\n",
      "Epoch 10/100\n",
      "4/4 [==============================] - 0s 27ms/step - loss: 0.3792 - accuracy: 0.7429 - val_loss: 0.3012 - val_accuracy: 0.9545\n",
      "Epoch 11/100\n",
      "4/4 [==============================] - 0s 28ms/step - loss: 0.3830 - accuracy: 0.8381 - val_loss: 0.3437 - val_accuracy: 0.8182\n",
      "Epoch 12/100\n",
      "4/4 [==============================] - 0s 30ms/step - loss: 0.3310 - accuracy: 0.9333 - val_loss: 0.3284 - val_accuracy: 0.7273\n",
      "Epoch 13/100\n",
      "4/4 [==============================] - 0s 30ms/step - loss: 0.3097 - accuracy: 0.8381 - val_loss: 0.2416 - val_accuracy: 0.9545\n",
      "Epoch 14/100\n",
      "4/4 [==============================] - 0s 40ms/step - loss: 0.2583 - accuracy: 0.9714 - val_loss: 0.2143 - val_accuracy: 1.0000\n",
      "Epoch 15/100\n",
      "4/4 [==============================] - 0s 32ms/step - loss: 0.2340 - accuracy: 0.9429 - val_loss: 0.2007 - val_accuracy: 1.0000\n",
      "Epoch 16/100\n",
      "4/4 [==============================] - 0s 30ms/step - loss: 0.2003 - accuracy: 0.9810 - val_loss: 0.2404 - val_accuracy: 0.9091\n",
      "Epoch 17/100\n",
      "4/4 [==============================] - 0s 28ms/step - loss: 0.2141 - accuracy: 0.9333 - val_loss: 0.1783 - val_accuracy: 1.0000\n",
      "Epoch 18/100\n",
      "4/4 [==============================] - 0s 28ms/step - loss: 0.2144 - accuracy: 0.9143 - val_loss: 0.1598 - val_accuracy: 0.9545\n",
      "Epoch 19/100\n",
      "4/4 [==============================] - 0s 32ms/step - loss: 0.1660 - accuracy: 0.9619 - val_loss: 0.1283 - val_accuracy: 1.0000\n",
      "Epoch 20/100\n",
      "4/4 [==============================] - 0s 32ms/step - loss: 0.1519 - accuracy: 0.9619 - val_loss: 0.1388 - val_accuracy: 0.9545\n",
      "Epoch 21/100\n",
      "4/4 [==============================] - 0s 30ms/step - loss: 0.2113 - accuracy: 0.8952 - val_loss: 0.1068 - val_accuracy: 1.0000\n",
      "Epoch 22/100\n",
      "4/4 [==============================] - 0s 32ms/step - loss: 0.1437 - accuracy: 0.9524 - val_loss: 0.1101 - val_accuracy: 0.9545\n",
      "Epoch 23/100\n",
      "4/4 [==============================] - 0s 30ms/step - loss: 0.1403 - accuracy: 0.9619 - val_loss: 0.0865 - val_accuracy: 1.0000\n",
      "Epoch 24/100\n",
      "4/4 [==============================] - 0s 38ms/step - loss: 0.1289 - accuracy: 0.9619 - val_loss: 0.0786 - val_accuracy: 1.0000\n",
      "Epoch 25/100\n",
      "4/4 [==============================] - 0s 32ms/step - loss: 0.1096 - accuracy: 0.9619 - val_loss: 0.0830 - val_accuracy: 0.9545\n",
      "Epoch 26/100\n",
      "4/4 [==============================] - 0s 33ms/step - loss: 0.1121 - accuracy: 0.9524 - val_loss: 0.0681 - val_accuracy: 1.0000\n",
      "Epoch 27/100\n",
      "4/4 [==============================] - 0s 30ms/step - loss: 0.1239 - accuracy: 0.9524 - val_loss: 0.0977 - val_accuracy: 0.9545\n",
      "Epoch 28/100\n",
      "4/4 [==============================] - 0s 30ms/step - loss: 0.1180 - accuracy: 0.9524 - val_loss: 0.0902 - val_accuracy: 0.9545\n",
      "Epoch 29/100\n",
      "4/4 [==============================] - 0s 40ms/step - loss: 0.1361 - accuracy: 0.9333 - val_loss: 0.0596 - val_accuracy: 1.0000\n",
      "Epoch 30/100\n",
      "4/4 [==============================] - 0s 35ms/step - loss: 0.1177 - accuracy: 0.9524 - val_loss: 0.0827 - val_accuracy: 0.9545\n",
      "Epoch 31/100\n",
      "4/4 [==============================] - 0s 33ms/step - loss: 0.1005 - accuracy: 0.9524 - val_loss: 0.0507 - val_accuracy: 1.0000\n",
      "Epoch 32/100\n",
      "4/4 [==============================] - 0s 30ms/step - loss: 0.0959 - accuracy: 0.9524 - val_loss: 0.0479 - val_accuracy: 1.0000\n",
      "Epoch 33/100\n",
      "4/4 [==============================] - 0s 38ms/step - loss: 0.0999 - accuracy: 0.9619 - val_loss: 0.0457 - val_accuracy: 1.0000\n",
      "Epoch 34/100\n",
      "4/4 [==============================] - 0s 30ms/step - loss: 0.0970 - accuracy: 0.9619 - val_loss: 0.0535 - val_accuracy: 1.0000\n",
      "Epoch 35/100\n",
      "4/4 [==============================] - 0s 30ms/step - loss: 0.0838 - accuracy: 0.9810 - val_loss: 0.0470 - val_accuracy: 1.0000\n",
      "Epoch 36/100\n",
      "4/4 [==============================] - 0s 28ms/step - loss: 0.0921 - accuracy: 0.9714 - val_loss: 0.0443 - val_accuracy: 1.0000\n",
      "Epoch 37/100\n",
      "4/4 [==============================] - 0s 33ms/step - loss: 0.0805 - accuracy: 0.9810 - val_loss: 0.0502 - val_accuracy: 1.0000\n",
      "Epoch 38/100\n",
      "4/4 [==============================] - 0s 32ms/step - loss: 0.0794 - accuracy: 0.9810 - val_loss: 0.0414 - val_accuracy: 1.0000\n",
      "Epoch 39/100\n",
      "4/4 [==============================] - 0s 33ms/step - loss: 0.0804 - accuracy: 0.9714 - val_loss: 0.0353 - val_accuracy: 1.0000\n",
      "Epoch 40/100\n",
      "4/4 [==============================] - 0s 30ms/step - loss: 0.0903 - accuracy: 0.9524 - val_loss: 0.1132 - val_accuracy: 0.9545\n",
      "Epoch 41/100\n",
      "4/4 [==============================] - 0s 33ms/step - loss: 0.1543 - accuracy: 0.9238 - val_loss: 0.0333 - val_accuracy: 1.0000\n",
      "Epoch 42/100\n",
      "4/4 [==============================] - 0s 30ms/step - loss: 0.0949 - accuracy: 0.9429 - val_loss: 0.0428 - val_accuracy: 1.0000\n",
      "Epoch 43/100\n",
      "4/4 [==============================] - 0s 38ms/step - loss: 0.0894 - accuracy: 0.9714 - val_loss: 0.0538 - val_accuracy: 0.9545\n",
      "Epoch 44/100\n",
      "4/4 [==============================] - 0s 33ms/step - loss: 0.1025 - accuracy: 0.9619 - val_loss: 0.0367 - val_accuracy: 1.0000\n",
      "Epoch 45/100\n",
      "4/4 [==============================] - 0s 30ms/step - loss: 0.0765 - accuracy: 0.9524 - val_loss: 0.0406 - val_accuracy: 1.0000\n",
      "Epoch 46/100\n",
      "4/4 [==============================] - 0s 30ms/step - loss: 0.0804 - accuracy: 0.9524 - val_loss: 0.0517 - val_accuracy: 0.9545\n",
      "Epoch 47/100\n",
      "4/4 [==============================] - 0s 35ms/step - loss: 0.0800 - accuracy: 0.9714 - val_loss: 0.0321 - val_accuracy: 1.0000\n",
      "Epoch 48/100\n",
      "4/4 [==============================] - 0s 37ms/step - loss: 0.0795 - accuracy: 0.9714 - val_loss: 0.0626 - val_accuracy: 0.9545\n",
      "Epoch 49/100\n",
      "4/4 [==============================] - 0s 37ms/step - loss: 0.0771 - accuracy: 0.9619 - val_loss: 0.0338 - val_accuracy: 1.0000\n",
      "Epoch 50/100\n",
      "4/4 [==============================] - 0s 28ms/step - loss: 0.1140 - accuracy: 0.9524 - val_loss: 0.1322 - val_accuracy: 0.9545\n",
      "Epoch 51/100\n",
      "4/4 [==============================] - 0s 30ms/step - loss: 0.1061 - accuracy: 0.9429 - val_loss: 0.0417 - val_accuracy: 1.0000\n",
      "Epoch 52/100\n",
      "4/4 [==============================] - 0s 47ms/step - loss: 0.1441 - accuracy: 0.9429 - val_loss: 0.3108 - val_accuracy: 0.8182\n",
      "Epoch 53/100\n",
      "4/4 [==============================] - 0s 33ms/step - loss: 0.2181 - accuracy: 0.9333 - val_loss: 0.2197 - val_accuracy: 0.8636\n",
      "Epoch 54/100\n",
      "4/4 [==============================] - 0s 28ms/step - loss: 0.2692 - accuracy: 0.8952 - val_loss: 0.5338 - val_accuracy: 0.8182\n",
      "Epoch 55/100\n",
      "4/4 [==============================] - 0s 30ms/step - loss: 0.3478 - accuracy: 0.8571 - val_loss: 0.5145 - val_accuracy: 0.7273\n",
      "Epoch 56/100\n",
      "4/4 [==============================] - 0s 27ms/step - loss: 0.4823 - accuracy: 0.8476 - val_loss: 0.3834 - val_accuracy: 0.8182\n",
      "Epoch 57/100\n",
      "4/4 [==============================] - 0s 37ms/step - loss: 0.4501 - accuracy: 0.8286 - val_loss: 0.0396 - val_accuracy: 1.0000\n",
      "Epoch 58/100\n",
      "4/4 [==============================] - 0s 35ms/step - loss: 0.3960 - accuracy: 0.8571 - val_loss: 0.0438 - val_accuracy: 1.0000\n",
      "Epoch 59/100\n",
      "4/4 [==============================] - 0s 32ms/step - loss: 0.3187 - accuracy: 0.8667 - val_loss: 0.3948 - val_accuracy: 0.8182\n",
      "Epoch 60/100\n",
      "4/4 [==============================] - 0s 28ms/step - loss: 0.2577 - accuracy: 0.9048 - val_loss: 0.1863 - val_accuracy: 1.0000\n",
      "Epoch 61/100\n",
      "4/4 [==============================] - 0s 32ms/step - loss: 0.2451 - accuracy: 0.9048 - val_loss: 0.1192 - val_accuracy: 1.0000\n",
      "Epoch 62/100\n",
      "4/4 [==============================] - 0s 37ms/step - loss: 0.1334 - accuracy: 0.9714 - val_loss: 0.1066 - val_accuracy: 0.9545\n",
      "Epoch 63/100\n",
      "4/4 [==============================] - 0s 33ms/step - loss: 0.1141 - accuracy: 0.9714 - val_loss: 0.0711 - val_accuracy: 1.0000\n",
      "Epoch 64/100\n",
      "4/4 [==============================] - 0s 30ms/step - loss: 0.1075 - accuracy: 0.9524 - val_loss: 0.0640 - val_accuracy: 1.0000\n",
      "Epoch 65/100\n",
      "4/4 [==============================] - 0s 32ms/step - loss: 0.0885 - accuracy: 0.9714 - val_loss: 0.0499 - val_accuracy: 1.0000\n",
      "Epoch 66/100\n",
      "4/4 [==============================] - 0s 38ms/step - loss: 0.0878 - accuracy: 0.9619 - val_loss: 0.0538 - val_accuracy: 1.0000\n",
      "Epoch 67/100\n",
      "4/4 [==============================] - 0s 40ms/step - loss: 0.0827 - accuracy: 0.9810 - val_loss: 0.0487 - val_accuracy: 1.0000\n",
      "Epoch 68/100\n",
      "4/4 [==============================] - 0s 30ms/step - loss: 0.0798 - accuracy: 0.9714 - val_loss: 0.0412 - val_accuracy: 1.0000\n",
      "Epoch 69/100\n",
      "4/4 [==============================] - 0s 27ms/step - loss: 0.0801 - accuracy: 0.9810 - val_loss: 0.0471 - val_accuracy: 1.0000\n",
      "Epoch 70/100\n",
      "4/4 [==============================] - 0s 37ms/step - loss: 0.0772 - accuracy: 0.9714 - val_loss: 0.0290 - val_accuracy: 1.0000\n",
      "Epoch 71/100\n",
      "4/4 [==============================] - 0s 42ms/step - loss: 0.0841 - accuracy: 0.9619 - val_loss: 0.0534 - val_accuracy: 0.9545\n",
      "Epoch 72/100\n",
      "4/4 [==============================] - 0s 35ms/step - loss: 0.0846 - accuracy: 0.9619 - val_loss: 0.0376 - val_accuracy: 1.0000\n",
      "Epoch 73/100\n",
      "4/4 [==============================] - 0s 35ms/step - loss: 0.0963 - accuracy: 0.9619 - val_loss: 0.0476 - val_accuracy: 0.9545\n",
      "Epoch 74/100\n",
      "4/4 [==============================] - 0s 80ms/step - loss: 0.1424 - accuracy: 0.9333 - val_loss: 0.0495 - val_accuracy: 0.9545\n",
      "Epoch 75/100\n",
      "4/4 [==============================] - 0s 33ms/step - loss: 0.1456 - accuracy: 0.9524 - val_loss: 0.0270 - val_accuracy: 1.0000\n",
      "Epoch 76/100\n",
      "4/4 [==============================] - 0s 32ms/step - loss: 0.0833 - accuracy: 0.9714 - val_loss: 0.0846 - val_accuracy: 0.9545\n",
      "Epoch 77/100\n",
      "4/4 [==============================] - 0s 30ms/step - loss: 0.0800 - accuracy: 0.9714 - val_loss: 0.0360 - val_accuracy: 1.0000\n",
      "Epoch 78/100\n",
      "4/4 [==============================] - 0s 33ms/step - loss: 0.1600 - accuracy: 0.9429 - val_loss: 0.0516 - val_accuracy: 0.9545\n",
      "Epoch 79/100\n",
      "4/4 [==============================] - 0s 42ms/step - loss: 0.1521 - accuracy: 0.9333 - val_loss: 0.0996 - val_accuracy: 0.9545\n",
      "Epoch 80/100\n",
      "4/4 [==============================] - 0s 35ms/step - loss: 0.0705 - accuracy: 0.9619 - val_loss: 0.0326 - val_accuracy: 1.0000\n",
      "Epoch 81/100\n",
      "4/4 [==============================] - 0s 30ms/step - loss: 0.1215 - accuracy: 0.9524 - val_loss: 0.0359 - val_accuracy: 1.0000\n",
      "Epoch 82/100\n",
      "4/4 [==============================] - 0s 28ms/step - loss: 0.0752 - accuracy: 0.9714 - val_loss: 0.0778 - val_accuracy: 0.9545\n",
      "Epoch 83/100\n",
      "4/4 [==============================] - 0s 35ms/step - loss: 0.0838 - accuracy: 0.9524 - val_loss: 0.0265 - val_accuracy: 1.0000\n",
      "Epoch 84/100\n",
      "4/4 [==============================] - 0s 43ms/step - loss: 0.0788 - accuracy: 0.9524 - val_loss: 0.0319 - val_accuracy: 1.0000\n",
      "Epoch 85/100\n",
      "4/4 [==============================] - 0s 38ms/step - loss: 0.0706 - accuracy: 0.9810 - val_loss: 0.0385 - val_accuracy: 1.0000\n",
      "Epoch 86/100\n",
      "4/4 [==============================] - 0s 35ms/step - loss: 0.0668 - accuracy: 0.9810 - val_loss: 0.0273 - val_accuracy: 1.0000\n",
      "Epoch 87/100\n",
      "4/4 [==============================] - 0s 30ms/step - loss: 0.0704 - accuracy: 0.9619 - val_loss: 0.0305 - val_accuracy: 1.0000\n",
      "Epoch 88/100\n",
      "4/4 [==============================] - 0s 43ms/step - loss: 0.0716 - accuracy: 0.9810 - val_loss: 0.0210 - val_accuracy: 1.0000\n",
      "Epoch 89/100\n",
      "4/4 [==============================] - 0s 30ms/step - loss: 0.1031 - accuracy: 0.9524 - val_loss: 0.0366 - val_accuracy: 1.0000\n",
      "Epoch 90/100\n",
      "4/4 [==============================] - 0s 32ms/step - loss: 0.1377 - accuracy: 0.9429 - val_loss: 0.0472 - val_accuracy: 0.9545\n",
      "Epoch 91/100\n",
      "4/4 [==============================] - 0s 30ms/step - loss: 0.1079 - accuracy: 0.9714 - val_loss: 0.0214 - val_accuracy: 1.0000\n",
      "Epoch 92/100\n",
      "4/4 [==============================] - 0s 38ms/step - loss: 0.0746 - accuracy: 0.9619 - val_loss: 0.1037 - val_accuracy: 0.9545\n",
      "Epoch 93/100\n",
      "4/4 [==============================] - 0s 38ms/step - loss: 0.1120 - accuracy: 0.9429 - val_loss: 0.0196 - val_accuracy: 1.0000\n",
      "Epoch 94/100\n",
      "4/4 [==============================] - 0s 32ms/step - loss: 0.0790 - accuracy: 0.9714 - val_loss: 0.0386 - val_accuracy: 1.0000\n",
      "Epoch 95/100\n",
      "4/4 [==============================] - 0s 30ms/step - loss: 0.1134 - accuracy: 0.9429 - val_loss: 0.0309 - val_accuracy: 1.0000\n",
      "Epoch 96/100\n",
      "4/4 [==============================] - 0s 30ms/step - loss: 0.0979 - accuracy: 0.9619 - val_loss: 0.0230 - val_accuracy: 1.0000\n",
      "Epoch 97/100\n",
      "4/4 [==============================] - 0s 38ms/step - loss: 0.0772 - accuracy: 0.9714 - val_loss: 0.1404 - val_accuracy: 0.9545\n",
      "Epoch 98/100\n",
      "4/4 [==============================] - 0s 30ms/step - loss: 0.1284 - accuracy: 0.9333 - val_loss: 0.0208 - val_accuracy: 1.0000\n",
      "Epoch 99/100\n",
      "4/4 [==============================] - 0s 33ms/step - loss: 0.1232 - accuracy: 0.9524 - val_loss: 0.0373 - val_accuracy: 1.0000\n",
      "Epoch 100/100\n",
      "4/4 [==============================] - 0s 33ms/step - loss: 0.1324 - accuracy: 0.9429 - val_loss: 0.0299 - val_accuracy: 1.0000\n"
     ]
    }
   ],
   "source": [
    "valSet = (validationF, validationLE)\n",
    "history = model.fit(trainF, trainLE, epochs=100, validation_data=valSet) #training the model"
   ]
  },
  {
   "cell_type": "code",
   "execution_count": 34,
   "metadata": {},
   "outputs": [
    {
     "name": "stdout",
     "output_type": "stream",
     "text": [
      "{'loss': [8.555513381958008, 2.369525671005249, 1.480462908744812, 1.0553436279296875, 0.6477057337760925, 0.7159822583198547, 0.6688159108161926, 0.45027032494544983, 0.41601550579071045, 0.379230797290802, 0.38300424814224243, 0.3310237228870392, 0.3096552789211273, 0.25826162099838257, 0.2340046465396881, 0.20032259821891785, 0.214073047041893, 0.21435096859931946, 0.1660405993461609, 0.15191741287708282, 0.21130876243114471, 0.1436929851770401, 0.1403156816959381, 0.12893062829971313, 0.10964585095643997, 0.11211863160133362, 0.12394369393587112, 0.11803032457828522, 0.13611483573913574, 0.11770112067461014, 0.10045760869979858, 0.09591630846261978, 0.09988513588905334, 0.09700682759284973, 0.08383399993181229, 0.09207324683666229, 0.08052535355091095, 0.07944547384977341, 0.08043425530195236, 0.09030134975910187, 0.15426385402679443, 0.09490813314914703, 0.0894114077091217, 0.10249212384223938, 0.07650894671678543, 0.08036178350448608, 0.07996100187301636, 0.07950226962566376, 0.07712912559509277, 0.11399585753679276, 0.10606193542480469, 0.14405609667301178, 0.2180660218000412, 0.2692054808139801, 0.34782668948173523, 0.48233577609062195, 0.45010828971862793, 0.39603111147880554, 0.31867626309394836, 0.25771284103393555, 0.2450544238090515, 0.1334373652935028, 0.11409591138362885, 0.10752584040164948, 0.08853653818368912, 0.08783333003520966, 0.08269980549812317, 0.07977328449487686, 0.08005329221487045, 0.07723065465688705, 0.08411240577697754, 0.0846206471323967, 0.09629747271537781, 0.14241814613342285, 0.1456150859594345, 0.08326472342014313, 0.08003391325473785, 0.1599520593881607, 0.15213479101657867, 0.07052363455295563, 0.12148880958557129, 0.07517003268003464, 0.08384212851524353, 0.0788118913769722, 0.07058180868625641, 0.06678248941898346, 0.07040891796350479, 0.07158207893371582, 0.10310140252113342, 0.13772320747375488, 0.10787098109722137, 0.07463372498750687, 0.11200068891048431, 0.07897595316171646, 0.11336757242679596, 0.09787464141845703, 0.07716991752386093, 0.12836749851703644, 0.12317542731761932, 0.13241611421108246], 'accuracy': [0.34285715222358704, 0.41904762387275696, 0.523809552192688, 0.6190476417541504, 0.7428571581840515, 0.6761904954910278, 0.6666666865348816, 0.7333333492279053, 0.7714285850524902, 0.7428571581840515, 0.8380952477455139, 0.9333333373069763, 0.8380952477455139, 0.9714285731315613, 0.9428571462631226, 0.9809523820877075, 0.9333333373069763, 0.9142857193946838, 0.961904764175415, 0.961904764175415, 0.8952381014823914, 0.9523809552192688, 0.961904764175415, 0.961904764175415, 0.961904764175415, 0.9523809552192688, 0.9523809552192688, 0.9523809552192688, 0.9333333373069763, 0.9523809552192688, 0.9523809552192688, 0.9523809552192688, 0.961904764175415, 0.961904764175415, 0.9809523820877075, 0.9714285731315613, 0.9809523820877075, 0.9809523820877075, 0.9714285731315613, 0.9523809552192688, 0.9238095283508301, 0.9428571462631226, 0.9714285731315613, 0.961904764175415, 0.9523809552192688, 0.9523809552192688, 0.9714285731315613, 0.9714285731315613, 0.961904764175415, 0.9523809552192688, 0.9428571462631226, 0.9428571462631226, 0.9333333373069763, 0.8952381014823914, 0.8571428656578064, 0.8476190567016602, 0.8285714387893677, 0.8571428656578064, 0.8666666746139526, 0.9047619104385376, 0.9047619104385376, 0.9714285731315613, 0.9714285731315613, 0.9523809552192688, 0.9714285731315613, 0.961904764175415, 0.9809523820877075, 0.9714285731315613, 0.9809523820877075, 0.9714285731315613, 0.961904764175415, 0.961904764175415, 0.961904764175415, 0.9333333373069763, 0.9523809552192688, 0.9714285731315613, 0.9714285731315613, 0.9428571462631226, 0.9333333373069763, 0.961904764175415, 0.9523809552192688, 0.9714285731315613, 0.9523809552192688, 0.9523809552192688, 0.9809523820877075, 0.9809523820877075, 0.961904764175415, 0.9809523820877075, 0.9523809552192688, 0.9428571462631226, 0.9714285731315613, 0.961904764175415, 0.9428571462631226, 0.9714285731315613, 0.9428571462631226, 0.961904764175415, 0.9714285731315613, 0.9333333373069763, 0.9523809552192688, 0.9428571462631226], 'val_loss': [1.5456135272979736, 1.7406045198440552, 0.8475101590156555, 0.6289691925048828, 0.8590659499168396, 0.6140516400337219, 0.38858166337013245, 0.4767874479293823, 0.4009282886981964, 0.3012261688709259, 0.34374159574508667, 0.3284447491168976, 0.24164900183677673, 0.21427789330482483, 0.2007235884666443, 0.24035248160362244, 0.17832590639591217, 0.1597527414560318, 0.128335103392601, 0.1387643963098526, 0.10680258274078369, 0.11010842025279999, 0.08646795153617859, 0.07862737774848938, 0.08301008492708206, 0.06813698261976242, 0.09767577797174454, 0.09022554755210876, 0.05957914888858795, 0.08267010003328323, 0.05069279298186302, 0.047919001430273056, 0.04572213068604469, 0.053463567048311234, 0.047013066709041595, 0.044253453612327576, 0.050173476338386536, 0.04135468229651451, 0.03529631346464157, 0.11315508186817169, 0.033297326415777206, 0.0427757166326046, 0.053845908492803574, 0.036748599261045456, 0.0406312458217144, 0.05168086662888527, 0.032101426273584366, 0.06258334964513779, 0.03380311280488968, 0.13217322528362274, 0.041707754135131836, 0.3108353614807129, 0.2196551263332367, 0.5338432788848877, 0.5145474076271057, 0.3834036886692047, 0.03957708179950714, 0.043830059468746185, 0.39480695128440857, 0.18631187081336975, 0.11916472762823105, 0.10662507265806198, 0.07109501957893372, 0.06399030238389969, 0.04985092952847481, 0.053789541125297546, 0.048684027045965195, 0.041174713522195816, 0.04705878347158432, 0.029032278805971146, 0.05338390916585922, 0.03758200630545616, 0.04757076874375343, 0.04946179687976837, 0.027049727737903595, 0.08461172133684158, 0.03601562976837158, 0.05162006989121437, 0.09955385327339172, 0.032579369843006134, 0.035900358110666275, 0.07779849320650101, 0.026489796116948128, 0.03188890591263771, 0.038459811359643936, 0.027336327359080315, 0.03050045855343342, 0.021025381982326508, 0.03655911982059479, 0.047192271798849106, 0.021412957459688187, 0.10373928397893906, 0.01958097331225872, 0.03862123563885689, 0.030916953459382057, 0.022970734164118767, 0.14037981629371643, 0.020752636715769768, 0.03734913095831871, 0.029889661818742752], 'val_accuracy': [0.3181818127632141, 0.3636363744735718, 0.6363636255264282, 0.6818181872367859, 0.6818181872367859, 0.6818181872367859, 0.6818181872367859, 0.6818181872367859, 0.6818181872367859, 0.9545454382896423, 0.8181818127632141, 0.7272727489471436, 0.9545454382896423, 1.0, 1.0, 0.9090909361839294, 1.0, 0.9545454382896423, 1.0, 0.9545454382896423, 1.0, 0.9545454382896423, 1.0, 1.0, 0.9545454382896423, 1.0, 0.9545454382896423, 0.9545454382896423, 1.0, 0.9545454382896423, 1.0, 1.0, 1.0, 1.0, 1.0, 1.0, 1.0, 1.0, 1.0, 0.9545454382896423, 1.0, 1.0, 0.9545454382896423, 1.0, 1.0, 0.9545454382896423, 1.0, 0.9545454382896423, 1.0, 0.9545454382896423, 1.0, 0.8181818127632141, 0.8636363744735718, 0.8181818127632141, 0.7272727489471436, 0.8181818127632141, 1.0, 1.0, 0.8181818127632141, 1.0, 1.0, 0.9545454382896423, 1.0, 1.0, 1.0, 1.0, 1.0, 1.0, 1.0, 1.0, 0.9545454382896423, 1.0, 0.9545454382896423, 0.9545454382896423, 1.0, 0.9545454382896423, 1.0, 0.9545454382896423, 0.9545454382896423, 1.0, 1.0, 0.9545454382896423, 1.0, 1.0, 1.0, 1.0, 1.0, 1.0, 1.0, 0.9545454382896423, 1.0, 0.9545454382896423, 1.0, 1.0, 1.0, 1.0, 0.9545454382896423, 1.0, 1.0, 1.0]}\n"
     ]
    }
   ],
   "source": [
    "print(history.history)"
   ]
  },
  {
   "cell_type": "code",
   "execution_count": 26,
   "metadata": {},
   "outputs": [
    {
     "name": "stdout",
     "output_type": "stream",
     "text": [
      "[[2.3587334e-03 9.9351007e-01 4.1311719e-03]\n",
      " [2.9925218e-07 9.1631971e-03 9.9083650e-01]\n",
      " [9.9849975e-01 1.5001233e-03 1.7280890e-07]\n",
      " [9.3841320e-03 9.8753786e-01 3.0779582e-03]\n",
      " [1.3501555e-09 2.8014177e-04 9.9971980e-01]\n",
      " [9.9942207e-01 5.7798630e-04 4.8979896e-08]\n",
      " [1.4660729e-03 9.9093986e-01 7.5940830e-03]\n",
      " [8.8877739e-10 1.7091075e-04 9.9982905e-01]\n",
      " [9.9817872e-01 1.8210475e-03 2.2329669e-07]\n",
      " [3.3260959e-03 9.9283069e-01 3.8431936e-03]]\n"
     ]
    }
   ],
   "source": [
    "labelPred = model.predict(testF)\n",
    "print(labelPred[:10])"
   ]
  },
  {
   "cell_type": "code",
   "execution_count": 27,
   "metadata": {},
   "outputs": [
    {
     "name": "stdout",
     "output_type": "stream",
     "text": [
      "[1 2 0 1 2 0 1 2 0 1 2 0 1 2 0 1 2 0 1 2 0 1 2]\n"
     ]
    }
   ],
   "source": [
    "labelTestClass = np.argmax(testLE, axis=1)\n",
    "labelPredClass = np.argmax(labelPred, axis=1)\n",
    "print(labelTestClass)"
   ]
  },
  {
   "cell_type": "code",
   "execution_count": 28,
   "metadata": {},
   "outputs": [
    {
     "name": "stdout",
     "output_type": "stream",
     "text": [
      "              precision    recall  f1-score   support\n",
      "\n",
      "           0       1.00      1.00      1.00         7\n",
      "           1       1.00      1.00      1.00         8\n",
      "           2       1.00      1.00      1.00         8\n",
      "\n",
      "    accuracy                           1.00        23\n",
      "   macro avg       1.00      1.00      1.00        23\n",
      "weighted avg       1.00      1.00      1.00        23\n",
      "\n",
      "[[7 0 0]\n",
      " [0 8 0]\n",
      " [0 0 8]]\n"
     ]
    }
   ],
   "source": [
    "report = classification_report(labelTestClass, labelPredClass)\n",
    "confMatrix = confusion_matrix(labelTestClass, labelPredClass)\n",
    "print(report)\n",
    "print(confMatrix)"
   ]
  },
  {
   "cell_type": "code",
   "execution_count": 35,
   "metadata": {},
   "outputs": [
    {
     "data": {
      "image/png": "[encoded data removed]",
      "text/plain": [
       "<Figure size 432x288 with 1 Axes>"
      ]
     },
     "metadata": {
      "needs_background": "light"
     },
     "output_type": "display_data"
    }
   ],
   "source": [
    "plt.plot(history.history['loss'], label='MAE (training data)')\n",
    "plt.plot(history.history['val_loss'], label='MAE (validation data)')\n",
    "plt.title('MAE for Chennai Reservoir Levels')\n",
    "plt.ylabel('MAE value')\n",
    "plt.xlabel('No. epoch')\n",
    "plt.legend(loc=\"upper left\")\n",
    "plt.show()\n",
    "#cuentame que mas ha pasado mijo\n",
    "#aca hablando con mi viejo"
   ]
  }
 ],
 "metadata": {
  "interpreter": {
   "hash": "a749ce9e7f55799ed652412e343278838c2c048e73833d9c0011e1dd1316e4b4"
  },
  "kernelspec": {
   "display_name": "Python 3.10.1 64-bit",
   "language": "python",
   "name": "python3"
  },
  "language_info": {
   "codemirror_mode": {
    "name": "ipython",
    "version": 3
   },
   "file_extension": ".py",
   "mimetype": "text/x-python",
   "name": "python",
   "nbconvert_exporter": "python",
   "pygments_lexer": "ipython3",
   "version": "3.10.1"
  },
  "orig_nbformat": 4
 },
 "nbformat": 4,
 "nbformat_minor": 2
}
