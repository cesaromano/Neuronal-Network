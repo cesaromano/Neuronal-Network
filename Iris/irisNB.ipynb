{
 "cells": [
  {
   "cell_type": "code",
   "execution_count": 4,
   "metadata": {},
   "outputs": [],
   "source": [
    "import numpy as np\n",
    "import pandas as pd\n",
    "import tensorflow as tf\n",
    "from tensorflow import keras\n",
    "from tensorflow.keras import layers"
   ]
  },
  {
   "cell_type": "code",
   "execution_count": 1,
   "metadata": {},
   "outputs": [],
   "source": [
    "filePath = 'Iris/iris.data' #getting data path\n",
    "newFile = 'Iris/iris-mixed.data' #path of new mixed data"
   ]
  },
  {
   "cell_type": "code",
   "execution_count": 6,
   "metadata": {},
   "outputs": [],
   "source": [
    "filePath = 'iris-mixed.data' #renaming filepath\n",
    "\n",
    "data = pd.read_csv(filePath, names=[\"sl\", \"sw\", \"pl\", \"pw\", \"label\"]) #read data from pandas\n",
    "#print(data, data.shape)"
   ]
  },
  {
   "cell_type": "code",
   "execution_count": 7,
   "metadata": {},
   "outputs": [],
   "source": [
    "fd = int(.7*len(data)) #Getting first index point of division \n",
    "sd = fd+int(.15*len(data)) #Getting second index point of division"
   ]
  },
  {
   "cell_type": "code",
   "execution_count": 8,
   "metadata": {},
   "outputs": [],
   "source": [
    "train, validation, test = np.split(data, [fd, sd]) #split data in train, test and validation sets\n",
    "#print(train.shape, validation.shape, test.shape)"
   ]
  },
  {
   "cell_type": "code",
   "execution_count": 9,
   "metadata": {},
   "outputs": [
    {
     "name": "stdout",
     "output_type": "stream",
     "text": [
      "0          Iris-setosa\n",
      "1      Iris-versicolor\n",
      "2       Iris-virginica\n",
      "3          Iris-setosa\n",
      "4      Iris-versicolor\n",
      "            ...       \n",
      "100    Iris-versicolor\n",
      "101     Iris-virginica\n",
      "102        Iris-setosa\n",
      "103    Iris-versicolor\n",
      "104     Iris-virginica\n",
      "Name: label, Length: 105, dtype: object\n",
      "      sl   sw   pl   pw\n",
      "0    5.1  3.5  1.4  0.2\n",
      "1    7.0  3.2  4.7  1.4\n",
      "2    6.3  3.3  6.0  2.5\n",
      "3    4.9  3.0  1.4  0.2\n",
      "4    6.4  3.2  4.5  1.5\n",
      "..   ...  ...  ...  ...\n",
      "100  6.0  2.7  5.1  1.6\n",
      "101  6.3  2.8  5.1  1.5\n",
      "102  4.9  3.1  1.5  0.1\n",
      "103  5.4  3.0  4.5  1.5\n",
      "104  6.1  2.6  5.6  1.4\n",
      "\n",
      "[105 rows x 4 columns]\n"
     ]
    }
   ],
   "source": [
    "trainLabel = train['label'] #getting the training labels\n",
    "trainFeat = train.drop(['label'], axis=1) #getting the training features\n",
    "\n",
    "print(trainLabel)\n",
    "print(trainFeat)"
   ]
  },
  {
   "cell_type": "code",
   "execution_count": 10,
   "metadata": {},
   "outputs": [
    {
     "ename": "AttributeError",
     "evalue": "module 'tensorflow.keras' has no attribute 'model'",
     "output_type": "error",
     "traceback": [
      "\u001b[1;31m---------------------------------------------------------------------------\u001b[0m",
      "\u001b[1;31mAttributeError\u001b[0m                            Traceback (most recent call last)",
      "\u001b[1;32mc:\\Users\\guazo\\Documents\\WORK\\UNESP\\First semester 2022\\Computação Inspirada pela Natureza\\Trabalho2-Perceptron\\Perceptron\\Iris\\irisNB.ipynb Cell 7'\u001b[0m in \u001b[0;36m<cell line: 1>\u001b[1;34m()\u001b[0m\n\u001b[1;32m----> <a href='vscode-notebook-cell:/c%3A/Users/guazo/Documents/WORK/UNESP/First%20semester%202022/Computa%C3%A7%C3%A3o%20Inspirada%20pela%20Natureza/Trabalho2-Perceptron/Perceptron/Iris/irisNB.ipynb#ch0000006?line=0'>1</a>\u001b[0m model_base \u001b[39m=\u001b[39m tf\u001b[39m.\u001b[39;49mkeras\u001b[39m.\u001b[39;49mmodel\u001b[39m.\u001b[39msequencial()\n",
      "\u001b[1;31mAttributeError\u001b[0m: module 'tensorflow.keras' has no attribute 'model'"
     ]
    }
   ],
   "source": [
    "model_base = tf.keras.model.sequencial()"
   ]
  }
 ],
 "metadata": {
  "interpreter": {
   "hash": "a749ce9e7f55799ed652412e343278838c2c048e73833d9c0011e1dd1316e4b4"
  },
  "kernelspec": {
   "display_name": "Python 3.10.1 64-bit",
   "language": "python",
   "name": "python3"
  },
  "language_info": {
   "codemirror_mode": {
    "name": "ipython",
    "version": 3
   },
   "file_extension": ".py",
   "mimetype": "text/x-python",
   "name": "python",
   "nbconvert_exporter": "python",
   "pygments_lexer": "ipython3",
   "version": "3.10.1"
  },
  "orig_nbformat": 4
 },
 "nbformat": 4,
 "nbformat_minor": 2
}
